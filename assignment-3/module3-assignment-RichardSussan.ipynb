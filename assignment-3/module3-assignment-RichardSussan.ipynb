{
 "cells": [
  {
   "cell_type": "code",
   "execution_count": 16,
   "metadata": {
    "scrolled": true
   },
   "outputs": [
    {
     "name": "stdout",
     "output_type": "stream",
     "text": [
      "Collecting package metadata (current_repodata.json): ...working... done\n",
      "Solving environment: ...working... \n",
      "Warning: >10 possible package resolutions (only showing differing packages):\n",
      "  - anaconda::ca-certificates-2019.5.15-0, anaconda::certifi-2019.6.16-py37_0, anaconda::conda-4.7.11-py37_0, anaconda::openssl-1.1.1c-he774522_1\n",
      "  - anaconda::ca-certificates-2019.5.15-0, anaconda::certifi-2019.6.16-py37_0, anaconda::openssl-1.1.1c-he774522_1, defaults::conda-4.7.11-py37_0\n",
      "  - anaconda::ca-certificates-2019.5.15-0, anaconda::conda-4.7.11-py37_0, anaconda::openssl-1.1.1c-he774522_1, defaults::certifi-2019.6.16-py37_0\n",
      "  - anaconda::ca-certificates-2019.5.15-0, anaconda::openssl-1.1.1c-he774522_1, defaults::certifi-2019.6.16-py37_0, defaults::conda-4.7.11-py37_0\n",
      "  - anaconda::conda-4.7.11-py37_0, anaconda::openssl-1.1.1c-he774522_1, defaults::ca-certificates-2019.5.15-0, defaults::certifi-2019.6.16-py37_0\n",
      "  - anaconda::openssl-1.1.1c-he774522_1, defaults::ca-certificates-2019.5.15-0, defaults::certifi-2019.6.16-py37_0, defaults::conda-4.7.11-py37_0\n",
      "  - anaconda::certifi-2019.6.16-py37_0, anaconda::conda-4.7.11-py37_0, anaconda::openssl-1.1.1c-he774522_1, defaults::ca-certificates-2019.5.15-0\n",
      "  - anaconda::certifi-2019.6.16-py37_0, anaconda::openssl-1.1.1c-he774522_1, defaults::ca-certificates-2019.5.15-0, defaults::conda-4.7.11-py37_0\n",
      "  - anaconda::certifi-2019.6.16-py37_0, anaconda::conda-4.7.11-py37_0, defaults::ca-certificates-2019.5.15-0, defaults::openssl-1.1.1c-he774522_1\n",
      "  - anaconda::ca-certificates-2019.5.15-0, anaconda::certifi-2019.6.16-py37_0, anaconda::conda-4.7.11-py37_0, defaults::openssl-1.1.1c-he774522_1\n",
      "  ... and othersdone\n",
      "\n",
      "# All requested packages already installed.\n",
      "\n"
     ]
    }
   ],
   "source": [
    "import sys\n",
    "!conda install --yes --prefix {sys.prefix} -c vtraag python-igraph"
   ]
  },
  {
   "cell_type": "code",
   "execution_count": 54,
   "metadata": {},
   "outputs": [
    {
     "name": "stdout",
     "output_type": "stream",
     "text": [
      "[0.0, 2.0, 0.0, 2.0, 0.0, 2.0]\n",
      "[0.625, 0.8333333333333334, 0.625, 0.8333333333333334, 0.625, 0.8333333333333334]\n"
     ]
    }
   ],
   "source": [
    "import igraph\n",
    "\n",
    "graphB = igraph.Graph(edges=[[2,1],[2,3],[1,3],[1,4],[1,5],[3,5],[3,0],[4,5],[5,0]])\n",
    "graphB[\"name\"] = \"Network B\"\n",
    "labels = [\" \",\"2\",\" \",\"4\",\" \",\"6\"]\n",
    "colors = [\"mediumturquoise\",\"sandybrown\",\"mediumturquoise\",\"sandybrown\",\"mediumturquoise\",\"sandybrown\"]\n",
    "\n",
    "print(graphB.betweenness())\n",
    "print(graphB.closeness())"
   ]
  },
  {
   "cell_type": "code",
   "execution_count": 58,
   "metadata": {},
   "outputs": [
    {
     "data": {
      "image/svg+xml": [
       "<svg height=\"400px\" width=\"400px\" xmlns=\"http://www.w3.org/2000/svg\" xmlns:cc=\"http://creativecommons.org/ns#\" xmlns:dc=\"http://purl.org/dc/elements/1.1/\" xmlns:inkscape=\"http://www.inkscape.org/namespaces/inkscape\" xmlns:rdf=\"http://www.w3.org/1999/02/22-rdf-syntax-ns#\" xmlns:sodipodi=\"http://sodipodi.sourceforge.net/DTD/sodipodi-0.dtd\" xmlns:svg=\"http://www.w3.org/2000/svg\"> <defs id=\"defs3\">\n",
       "<marker id=\"Arrow2Lend0\" inkscape:stockid=\"Arrow2Lend0\" orient=\"auto\" refX=\"0.0\" refY=\"0.0\" style=\"overflow:visible;\">\n",
       "  <path d=\"M 8.7185878,4.0337352 L -2.2072895,0.016013256 L 8.7185884,-4.0017078 C 6.9730900,-1.6296469 6.9831476,1.6157441 8.7185878,4.0337352 z \" id=\"pathArrow0\" style=\"font-size:12.0;fill-rule:evenodd;stroke-width:0.62500000;stroke-linejoin:round;fill:black\" transform=\"scale(1.1) rotate(180) translate(1,0)\"/>\n",
       "</marker>\n",
       "</defs>\n",
       "<g id=\"layer2\" inkscape:groupmode=\"layer\" inkscape:label=\"Lines\" sodipodi:insensitive=\"true\">\n",
       "<path d=\"M 275.112234321416,175.51295860543172 376.567801386401,324.77575735273143\" id=\"path0\" inkscape:connection-end=\"#g2\" inkscape:connection-end-point=\"d4\" inkscape:connection-start=\"#g1\" inkscape:connection-start-point=\"d4\" inkscape:connector-curvature=\"0\" inkscape:connector-type=\"polyline\" style=\"fill:none;stroke:black;stroke-width:2;stroke-linecap:butt;stroke-linejoin:miter;stroke-miterlimit:4;stroke-opacity:1;stroke-dasharray:none\"/>\n",
       "<path d=\"M 385.0,337.1813216905929 216.62761592645322,361.1346360647002\" id=\"path1\" inkscape:connection-end=\"#g3\" inkscape:connection-end-point=\"d4\" inkscape:connection-start=\"#g2\" inkscape:connection-start-point=\"d4\" inkscape:connector-curvature=\"0\" inkscape:connector-type=\"polyline\" style=\"fill:none;stroke:black;stroke-width:2;stroke-linecap:butt;stroke-linejoin:miter;stroke-miterlimit:4;stroke-opacity:1;stroke-dasharray:none\"/>\n",
       "<path d=\"M 275.112234321416,175.51295860543172 207.23498811801204,349.2754964696119\" id=\"path2\" inkscape:connection-end=\"#g3\" inkscape:connection-end-point=\"d4\" inkscape:connection-start=\"#g1\" inkscape:connection-start-point=\"d4\" inkscape:connector-curvature=\"0\" inkscape:connector-type=\"polyline\" style=\"fill:none;stroke:black;stroke-width:2;stroke-linecap:butt;stroke-linejoin:miter;stroke-miterlimit:4;stroke-opacity:1;stroke-dasharray:none\"/>\n",
       "<path d=\"M 275.112234321416,175.51295860543172 169.83459413966622,27.23084826607485\" id=\"path3\" inkscape:connection-end=\"#g4\" inkscape:connection-end-point=\"d4\" inkscape:connection-start=\"#g1\" inkscape:connection-start-point=\"d4\" inkscape:connector-curvature=\"0\" inkscape:connector-type=\"polyline\" style=\"fill:none;stroke:black;stroke-width:2;stroke-linecap:butt;stroke-linejoin:miter;stroke-miterlimit:4;stroke-opacity:1;stroke-dasharray:none\"/>\n",
       "<path d=\"M 275.112234321416,175.51295860543172 103.2260274529955,197.4780772885975\" id=\"path4\" inkscape:connection-end=\"#g5\" inkscape:connection-end-point=\"d4\" inkscape:connection-start=\"#g1\" inkscape:connection-start-point=\"d4\" inkscape:connector-curvature=\"0\" inkscape:connector-type=\"polyline\" style=\"fill:none;stroke:black;stroke-width:2;stroke-linecap:butt;stroke-linejoin:miter;stroke-miterlimit:4;stroke-opacity:1;stroke-dasharray:none\"/>\n",
       "<path d=\"M 201.7771426693367,363.247322515565 96.88431354782088,211.71292344528592\" id=\"path5\" inkscape:connection-end=\"#g5\" inkscape:connection-end-point=\"d4\" inkscape:connection-start=\"#g3\" inkscape:connection-start-point=\"d4\" inkscape:connector-curvature=\"0\" inkscape:connector-type=\"polyline\" style=\"fill:none;stroke:black;stroke-width:2;stroke-linecap:butt;stroke-linejoin:miter;stroke-miterlimit:4;stroke-opacity:1;stroke-dasharray:none\"/>\n",
       "<path d=\"M 15.0,385.0 186.87784708247085,364.98254325518263\" id=\"path6\" inkscape:connection-end=\"#g3\" inkscape:connection-end-point=\"d4\" inkscape:connection-start=\"#g0\" inkscape:connection-start-point=\"d4\" inkscape:connector-curvature=\"0\" inkscape:connector-type=\"polyline\" style=\"fill:none;stroke:black;stroke-width:2;stroke-linecap:butt;stroke-linejoin:miter;stroke-miterlimit:4;stroke-opacity:1;stroke-dasharray:none\"/>\n",
       "<path d=\"M 161.1509111254001,15.0 93.85599513101548,185.42770029577432\" id=\"path7\" inkscape:connection-end=\"#g5\" inkscape:connection-end-point=\"d4\" inkscape:connection-start=\"#g4\" inkscape:connection-start-point=\"d4\" inkscape:connector-curvature=\"0\" inkscape:connector-type=\"polyline\" style=\"fill:none;stroke:black;stroke-width:2;stroke-linecap:butt;stroke-linejoin:miter;stroke-miterlimit:4;stroke-opacity:1;stroke-dasharray:none\"/>\n",
       "<path d=\"M 15.0,385.0 82.83459896961104,213.32982947780133\" id=\"path8\" inkscape:connection-end=\"#g5\" inkscape:connection-end-point=\"d4\" inkscape:connection-start=\"#g0\" inkscape:connection-start-point=\"d4\" inkscape:connector-curvature=\"0\" inkscape:connector-type=\"polyline\" style=\"fill:none;stroke:black;stroke-width:2;stroke-linecap:butt;stroke-linejoin:miter;stroke-miterlimit:4;stroke-opacity:1;stroke-dasharray:none\"/>\n",
       "  </g>\n",
       "\n",
       "  <g id=\"layer1\" inkscape:groupmode=\"layer\" inkscape:label=\"Nodes\">\n",
       "  <!-- Vertices -->\n",
       "    <g id=\"g0\" transform=\"translate(15.0,385.0)\">\n",
       "     <circle cx=\"0\" cy=\"0\" fill=\"mediumturquoise\" r=\"15\"/>\n",
       "      <text id=\"text0\" sodipodi:linespacing=\"125%\" style=\"font-size:16pxpx;font-style:normal;font-weight:normal;text-align:center;line-height:125%;letter-spacing:0px;word-spacing:0px;text-anchor:middle;fill:#000000;fill-opacity:1;stroke:none;font-family:Sans\" x=\"0\" y=\"7.5\">\n",
       "<tspan id=\"tspan0\" sodipodi:role=\"line\" x=\"0\" y=\"7.5\"> </tspan></text>\n",
       "    </g>\n",
       "    <g id=\"g1\" transform=\"translate(275.112234321416,175.51295860543172)\">\n",
       "     <circle cx=\"0\" cy=\"0\" fill=\"sandybrown\" r=\"15\"/>\n",
       "      <text id=\"text1\" sodipodi:linespacing=\"125%\" style=\"font-size:16pxpx;font-style:normal;font-weight:normal;text-align:center;line-height:125%;letter-spacing:0px;word-spacing:0px;text-anchor:middle;fill:#000000;fill-opacity:1;stroke:none;font-family:Sans\" x=\"0\" y=\"7.5\">\n",
       "<tspan id=\"tspan1\" sodipodi:role=\"line\" x=\"0\" y=\"7.5\">2</tspan></text>\n",
       "    </g>\n",
       "    <g id=\"g2\" transform=\"translate(385.0,337.1813216905929)\">\n",
       "     <circle cx=\"0\" cy=\"0\" fill=\"mediumturquoise\" r=\"15\"/>\n",
       "      <text id=\"text2\" sodipodi:linespacing=\"125%\" style=\"font-size:16pxpx;font-style:normal;font-weight:normal;text-align:center;line-height:125%;letter-spacing:0px;word-spacing:0px;text-anchor:middle;fill:#000000;fill-opacity:1;stroke:none;font-family:Sans\" x=\"0\" y=\"7.5\">\n",
       "<tspan id=\"tspan2\" sodipodi:role=\"line\" x=\"0\" y=\"7.5\"> </tspan></text>\n",
       "    </g>\n",
       "    <g id=\"g3\" transform=\"translate(201.7771426693367,363.247322515565)\">\n",
       "     <circle cx=\"0\" cy=\"0\" fill=\"sandybrown\" r=\"15\"/>\n",
       "      <text id=\"text3\" sodipodi:linespacing=\"125%\" style=\"font-size:16pxpx;font-style:normal;font-weight:normal;text-align:center;line-height:125%;letter-spacing:0px;word-spacing:0px;text-anchor:middle;fill:#000000;fill-opacity:1;stroke:none;font-family:Sans\" x=\"0\" y=\"7.5\">\n",
       "<tspan id=\"tspan3\" sodipodi:role=\"line\" x=\"0\" y=\"7.5\">4</tspan></text>\n",
       "    </g>\n",
       "    <g id=\"g4\" transform=\"translate(161.1509111254001,15.0)\">\n",
       "     <circle cx=\"0\" cy=\"0\" fill=\"mediumturquoise\" r=\"15\"/>\n",
       "      <text id=\"text4\" sodipodi:linespacing=\"125%\" style=\"font-size:16pxpx;font-style:normal;font-weight:normal;text-align:center;line-height:125%;letter-spacing:0px;word-spacing:0px;text-anchor:middle;fill:#000000;fill-opacity:1;stroke:none;font-family:Sans\" x=\"0\" y=\"7.5\">\n",
       "<tspan id=\"tspan4\" sodipodi:role=\"line\" x=\"0\" y=\"7.5\"> </tspan></text>\n",
       "    </g>\n",
       "    <g id=\"g5\" transform=\"translate(88.34702225410133,199.3794463456931)\">\n",
       "     <circle cx=\"0\" cy=\"0\" fill=\"sandybrown\" r=\"15\"/>\n",
       "      <text id=\"text5\" sodipodi:linespacing=\"125%\" style=\"font-size:16pxpx;font-style:normal;font-weight:normal;text-align:center;line-height:125%;letter-spacing:0px;word-spacing:0px;text-anchor:middle;fill:#000000;fill-opacity:1;stroke:none;font-family:Sans\" x=\"0\" y=\"7.5\">\n",
       "<tspan id=\"tspan5\" sodipodi:role=\"line\" x=\"0\" y=\"7.5\">6</tspan></text>\n",
       "    </g>\n",
       "</g>\n",
       "\n",
       "</svg>"
      ],
      "text/plain": [
       "<IPython.core.display.SVG object>"
      ]
     },
     "execution_count": 58,
     "metadata": {},
     "output_type": "execute_result"
    }
   ],
   "source": [
    "from IPython.core.display import SVG\n",
    "\n",
    "fileName = \"network-b.svg\"\n",
    "graphB.write_svg(fname=fileName, labels=labels, colors=colors, vertex_size=15)\n",
    "SVG(filename=fileName)\n"
   ]
  },
  {
   "cell_type": "code",
   "execution_count": null,
   "metadata": {},
   "outputs": [],
   "source": []
  }
 ],
 "metadata": {
  "kernelspec": {
   "display_name": "Python 3",
   "language": "python",
   "name": "python3"
  },
  "language_info": {
   "codemirror_mode": {
    "name": "ipython",
    "version": 3
   },
   "file_extension": ".py",
   "mimetype": "text/x-python",
   "name": "python",
   "nbconvert_exporter": "python",
   "pygments_lexer": "ipython3",
   "version": "3.7.3"
  }
 },
 "nbformat": 4,
 "nbformat_minor": 2
}
