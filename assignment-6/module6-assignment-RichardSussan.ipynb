{
 "cells": [
  {
   "cell_type": "code",
   "execution_count": 1,
   "metadata": {
    "scrolled": true
   },
   "outputs": [
    {
     "name": "stdout",
     "output_type": "stream",
     "text": [
      "Collecting package metadata (current_repodata.json): ...working... done\n",
      "Solving environment: ...working... done\n",
      "\n",
      "## Package Plan ##\n",
      "\n",
      "  environment location: D:\\Anaconda3\n",
      "\n",
      "  added / updated specs:\n",
      "    - nltk\n",
      "\n",
      "\n",
      "The following packages will be downloaded:\n",
      "\n",
      "    package                    |            build\n",
      "    ---------------------------|-----------------\n",
      "    conda-4.7.12               |           py37_0         3.0 MB  anaconda\n",
      "    nltk-3.4.4                 |           py37_0         2.1 MB  anaconda\n",
      "    ------------------------------------------------------------\n",
      "                                           Total:         5.1 MB\n",
      "\n",
      "The following packages will be SUPERSEDED by a higher-priority channel:\n",
      "\n",
      "  conda                                         conda-forge --> anaconda\n",
      "  nltk                                            pkgs/main --> anaconda\n",
      "\n",
      "\n",
      "\n",
      "Downloading and Extracting Packages\n",
      "\n",
      "nltk-3.4.4           | 2.1 MB    |            |   0% \n",
      "nltk-3.4.4           | 2.1 MB    |            |   1% \n",
      "nltk-3.4.4           | 2.1 MB    | ########## | 100% \n",
      "\n",
      "conda-4.7.12         | 3.0 MB    |            |   0% \n",
      "conda-4.7.12         | 3.0 MB    | ####8      |  48% \n",
      "conda-4.7.12         | 3.0 MB    | ########## | 100% \n",
      "Preparing transaction: ...working... done\n",
      "Verifying transaction: ...working... done\n",
      "Executing transaction: ...working... done\n"
     ]
    }
   ],
   "source": [
    "import sys\n",
    "!conda install --yes --prefix {sys.prefix} -c anaconda nltk"
   ]
  },
  {
   "cell_type": "code",
   "execution_count": 1,
   "metadata": {},
   "outputs": [],
   "source": [
    "import nltk\n",
    "import os\n",
    "# uncomment to download nltk library\n",
    "#nltk.download()\n",
    "os.environ[\"NLTK_DATA\"] = \"D:\\nltk_data\""
   ]
  },
  {
   "cell_type": "code",
   "execution_count": 2,
   "metadata": {},
   "outputs": [],
   "source": [
    "# read the strings to a list\n",
    "\n",
    "comments = \"C:\\develop\\jupyter-notebooks\\social-media-analytics\\m6-assignment\\m2-q1-output-comments.txt\""
   ]
  },
  {
   "cell_type": "code",
   "execution_count": 3,
   "metadata": {},
   "outputs": [
    {
     "name": "stdout",
     "output_type": "stream",
     "text": [
      "word tokens =  ['1', '-', '[', 'MEGATHREAD', ']', 'Direct', '9/4/2019', ':', 'March', '20th', ',', '2020', 'Release', 'Date', 'and', 'Other', 'Updates', '1.1', '-', 'Did', 'anyone', 'else', 'spot', 'that', 'giant', 'mushroom', '?', '?', '?', '1.2', '-', 'I', 'HAVEN', '’', 'T', 'WATCHED', 'IT', 'YET', 'BUT', 'I', 'HAD', 'A', 'LARGE', 'MARGARITA', 'AND', 'I', '’', 'M', 'READY', '1.3', '-', 'long', 'dresses', 'with', 'cloth', 'physics', '1.4', '-', 'I', '’', 'm', 'still', 'desperate', 'to', 'know', 'what', 'mid', 'to', 'late', 'game', 'looks', 'like', '.', 'Edit', ':', 'anyone', 'else', 'catch', 'the', 'four', 'bird', '1.5', '-', 'The', 'flower', 'crowns', ',', 'though', '!', '!', '!', 'If', 'KK', 'Slider', 'is', 'there', 'it', '’', 's', 'basically', 'Coachella', '2', '-', 'I', 'made', 'my', '2nd', 'character', 'look', 'like', 'Sousuke', 'from', 'Ponyo', '2.1', '-', 'I', 'need', 'some', 'Ghibli', 'themed', 'villagers', 'NOW', '2.2', '-', 'Ponyo', 'wants', 'ham', '!', '!', '2.3', '-', 'this', 'makes', 'me', 'want', 'to', 'binge', 'ghibli', 'movies', 'again', 'even', 'though', 'i', 'just', 'did', 'it', 'last', 'month', 'lol', '2.4', '-', 'PONYO', 'LIKES', 'HAM', '2.5', '-', 'Damn', ',', 'right', 'in', 'the', 'Ghiblis', '.', 'Super', 'cute', '!', '3', '-', 'I', \"'m\", 'going', 'on', 'a', 'trip', 'with', 'school', ',', 'im', 'on', 'a', 'bus', 'with', 'my', 'favorite', 'snacks', 'and', 'my', 'favorite', 'game', ',', 'this', 'is', 'g', '3.1', '-', 'If', 'you', 'streetpass', 'someone', 'who', '’', 's', 'player', 'is', 'a', 'Duck', 'in', 'a', 'kimono', ',', 'it', 'is', 'me', '.', 'COMRADE', 'DUCK', '!', '3.2', '-', 'Ahhh', 'the', 'good', 'old', 'days', '3.3', '-', 'This', 'is', 'a', 'stupid', 'question', ',', 'but', 'is', 'that', 'a', 'new', '3DS', '?', 'The', 'bottom', 'screen', 'looks', 'a', 'little', 'bigger', 'than', 'mine', '.', '3.4', '-', 'Damn', 'this', 'got', 'me', 'right', 'in', 'the', 'feels', ',', 'those', 'were', 'the', 'good', 'times', '.', '3.5', '-', 'This', 'is', 'so', 'wholesome', '!', 'Hope', 'you', 'have', 'a', 'great', 'trip', '!', '4.1', '-', 'I', 'hope', 'they', 'gift', 'you', 'some', 'amiibos', '4.4', '-', 'Happy', 'birthday', '!', 'I', \"'d\", 'love', 'to', 'be', 'at', 'a', 'party', 'like', 'that', '.', 'Which', 'animal', 'would', 'you', 'definitely', 'invite', '?', '4.5', '-', 'What', 'a', 'wonderful', 'spread', '!', 'Your', 'cake', 'is', 'so', 'adorable', 'and', 'I', 'love', 'your', 'Isabelle-inspire', 'outfit', '!', 'Happy', 'Bir']\n",
      "casual tokens =  ['1', '-', '[', 'MEGATHREAD', ']', 'Direct', '9/4', '/', '2019', ':', 'March', '20th', ',', '2020', 'Release', 'Date', 'and', 'Other', 'Updates', '1.1', '-', 'Did', 'anyone', 'else', 'spot', 'that', 'giant', 'mushroom', '?', '?', '?', '1.2', '-', 'I', 'HAVEN', '’', 'T', 'WATCHED', 'IT', 'YET', 'BUT', 'I', 'HAD', 'A', 'LARGE', 'MARGARITA', 'AND', 'I', '’', 'M', 'READY', '1.3', '-', 'long', 'dresses', 'with', 'cloth', 'physics', '1.4', '-', 'I', '’', 'm', 'still', 'desperate', 'to', 'know', 'what', 'mid', 'to', 'late', 'game', 'looks', 'like', '.', 'Edit', ':', 'anyone', 'else', 'catch', 'the', 'four', 'bird', '1.5', '-', 'The', 'flower', 'crowns', ',', 'though', '!', '!', '!', 'If', 'KK', 'Slider', 'is', 'there', 'it', '’', 's', 'basically', 'Coachella', '2', '-', 'I', 'made', 'my', '2nd', 'character', 'look', 'like', 'Sousuke', 'from', 'Ponyo', '2.1', '-', 'I', 'need', 'some', 'Ghibli', 'themed', 'villagers', 'NOW', '2.2', '-', 'Ponyo', 'wants', 'ham', '!', '!', '2.3', '-', 'this', 'makes', 'me', 'want', 'to', 'binge', 'ghibli', 'movies', 'again', 'even', 'though', 'i', 'just', 'did', 'it', 'last', 'month', 'lol', '2.4', '-', 'PONYO', 'LIKES', 'HAM', '2.5', '-', 'Damn', ',', 'right', 'in', 'the', 'Ghiblis', '.', 'Super', 'cute', '!', '3', '-', \"I'm\", 'going', 'on', 'a', 'trip', 'with', 'school', ',', 'im', 'on', 'a', 'bus', 'with', 'my', 'favorite', 'snacks', 'and', 'my', 'favorite', 'game', ',', 'this', 'is', 'g', '3.1', '-', 'If', 'you', 'streetpass', 'someone', 'who', '’', 's', 'player', 'is', 'a', 'Duck', 'in', 'a', 'kimono', ',', 'it', 'is', 'me', '.', 'COMRADE', 'DUCK', '!', '3.2', '-', 'Ahhh', 'the', 'good', 'old', 'days', '3.3', '-', 'This', 'is', 'a', 'stupid', 'question', ',', 'but', 'is', 'that', 'a', 'new', '3DS', '?', 'The', 'bottom', 'screen', 'looks', 'a', 'little', 'bigger', 'than', 'mine', '.', '3.4', '-', 'Damn', 'this', 'got', 'me', 'right', 'in', 'the', 'feels', ',', 'those', 'were', 'the', 'good', 'times', '.', '3.5', '-', 'This', 'is', 'so', 'wholesome', '!', 'Hope', 'you', 'have', 'a', 'great', 'trip', '!', '4.1', '-', 'I', 'hope', 'they', 'gift', 'you', 'some', 'amiibos', '4.4', '-', 'Happy', 'birthday', '!', \"I'd\", 'love', 'to', 'be', 'at', 'a', 'party', 'like', 'that', '.', 'Which', 'animal', 'would', 'you', 'definitely', 'invite', '?', '4.5', '-', 'What', 'a', 'wonderful', 'spread', '!', 'Your', 'cake', 'is', 'so', 'adorable', 'and', 'I', 'love', 'your', 'Isabelle-inspire', 'outfit', '!', 'Happy', 'Bir']\n",
      "sentence tokens =  ['1 - [MEGATHREAD] Direct 9/4/2019: March 20th, 2020 Release Date and Other Updates\\n1.1 - Did anyone else spot that giant mushroom???', '1.2 - I HAVEN’T WATCHED IT YET BUT I HAD A LARGE MARGARITA AND I’M READY\\n1.3 - long dresses with cloth physics\\n1.4 - I’m still desperate to know what mid to late game looks like.', 'Edit: anyone else catch the four bird\\n1.5 - The flower crowns, though!!!', 'If KK Slider is there it’s basically Coachella\\n2 - I made my 2nd character look like Sousuke from Ponyo\\n2.1 - I need some Ghibli themed villagers NOW\\n2.2 - Ponyo wants ham!!', '2.3 - this makes me want to binge ghibli movies again even though i just did it last month lol\\n2.4 - PONYO LIKES HAM\\n2.5 - Damn, right in the Ghiblis.', 'Super cute!', \"3 - I'm going on a trip with school, im on a bus with my favorite snacks and my favorite game, this is g\\n3.1 - If you streetpass someone who’s player is a Duck in a kimono, it is me.\", 'COMRADE DUCK!', '3.2 - Ahhh the good old days\\n3.3 - This is a stupid question, but is that a new 3DS?', 'The bottom screen looks a little bigger than mine.', '3.4 - Damn this got me right in the feels, those were the good times.', '3.5 - This is so wholesome!', 'Hope you have a great trip!', '4.1 - I hope they gift you some amiibos\\n4.4 - Happy birthday!', \"I'd love to be at a party like that.\", 'Which animal would you definitely invite?', '4.5 - What a wonderful spread!', 'Your cake is so adorable and I love your Isabelle-inspire outfit!', 'Happy Bir']\n"
     ]
    }
   ],
   "source": [
    "# tokenization\n",
    "\n",
    "stem = open(comments,'r')\n",
    "wtokens = nltk.word_tokenize(stem.read())\n",
    "stem = open(comments,'r')\n",
    "ctokens = nltk.casual_tokenize(stem.read())\n",
    "stem = open(comments,'r')\n",
    "stokens = nltk.sent_tokenize(stem.read())\n",
    "\n",
    "\n",
    "print(\"word tokens = \",  wtokens)\n",
    "print(\"casual tokens = \",  ctokens)\n",
    "print(\"sentence tokens = \",  stokens)\n",
    "\n",
    "file = open(\"tokenoutput.txt\", \"a+\")\n",
    "file.write(\"word tokens \" + '\\n')\n",
    "for item in wtokens:\n",
    "  file.write(\"%s\\n\" % item)\n",
    "file.write(\"casual tokens \" + '\\n')\n",
    "for item in ctokens:\n",
    "  file.write(\"%s\\n\" % item)\n",
    "file.write(\"sentence tokens \" + '\\n')\n",
    "for item in stokens:\n",
    "  file.write(\"%s\\n\" % item)"
   ]
  },
  {
   "cell_type": "code",
   "execution_count": 4,
   "metadata": {},
   "outputs": [
    {
     "name": "stdout",
     "output_type": "stream",
     "text": [
      "{tokens:stemmed} =  {'1': '1', '-': '-', '[': '[', 'MEGATHREAD': 'megathread', ']': ']', 'Direct': 'direct', '9/4/2019': '9/4/2019', ':': ':', 'March': 'march', '20th': '20th', ',': ',', '2020': '2020', 'Release': 'releas', 'Date': 'dat', 'and': 'and', 'Other': 'oth', 'Updates': 'upd', '1.1': '1.1', 'Did': 'did', 'anyone': 'anyon', 'else': 'els', 'spot': 'spot', 'that': 'that', 'giant': 'giant', 'mushroom': 'mushroom', '?': '?', '1.2': '1.2', 'I': 'i', 'HAVEN': 'hav', '’': '’', 'T': 't', 'WATCHED': 'watch', 'IT': 'it', 'YET': 'yet', 'BUT': 'but', 'HAD': 'had', 'A': 'a', 'LARGE': 'larg', 'MARGARITA': 'margarit', 'AND': 'and', 'M': 'm', 'READY': 'ready', '1.3': '1.3', 'long': 'long', 'dresses': 'dress', 'with': 'with', 'cloth': 'clo', 'physics': 'phys', '1.4': '1.4', 'm': 'm', 'still': 'stil', 'desperate': 'desp', 'to': 'to', 'know': 'know', 'what': 'what', 'mid': 'mid', 'late': 'lat', 'game': 'gam', 'looks': 'look', 'like': 'lik', '.': '.', 'Edit': 'edit', 'catch': 'catch', 'the': 'the', 'four': 'four', 'bird': 'bird', '1.5': '1.5', 'The': 'the', 'flower': 'flow', 'crowns': 'crown', 'though': 'though', '!': '!', 'If': 'if', 'KK': 'kk', 'Slider': 'slid', 'is': 'is', 'there': 'ther', 'it': 'it', 's': 's', 'basically': 'bas', 'Coachella': 'coachell', '2': '2', 'made': 'mad', 'my': 'my', '2nd': '2nd', 'character': 'charact', 'look': 'look', 'Sousuke': 'sousuk', 'from': 'from', 'Ponyo': 'ponyo', '2.1': '2.1', 'need': 'nee', 'some': 'som', 'Ghibli': 'ghibl', 'themed': 'them', 'villagers': 'vil', 'NOW': 'now', '2.2': '2.2', 'wants': 'want', 'ham': 'ham', '2.3': '2.3', 'this': 'thi', 'makes': 'mak', 'me': 'me', 'want': 'want', 'binge': 'bing', 'ghibli': 'ghibl', 'movies': 'movy', 'again': 'again', 'even': 'ev', 'i': 'i', 'just': 'just', 'did': 'did', 'last': 'last', 'month': 'mon', 'lol': 'lol', '2.4': '2.4', 'PONYO': 'ponyo', 'LIKES': 'lik', 'HAM': 'ham', '2.5': '2.5', 'Damn': 'damn', 'right': 'right', 'in': 'in', 'Ghiblis': 'ghibl', 'Super': 'sup', 'cute': 'cut', '3': '3', \"'m\": \"'m\", 'going': 'going', 'on': 'on', 'a': 'a', 'trip': 'trip', 'school': 'school', 'im': 'im', 'bus': 'bus', 'favorite': 'favorit', 'snacks': 'snack', 'g': 'g', '3.1': '3.1', 'you': 'you', 'streetpass': 'streetpass', 'someone': 'someon', 'who': 'who', 'player': 'play', 'Duck': 'duck', 'kimono': 'kimono', 'COMRADE': 'comrad', 'DUCK': 'duck', '3.2': '3.2', 'Ahhh': 'ahhh', 'good': 'good', 'old': 'old', 'days': 'day', '3.3': '3.3', 'This': 'thi', 'stupid': 'stupid', 'question': 'quest', 'but': 'but', 'new': 'new', '3DS': '3ds', 'bottom': 'bottom', 'screen': 'screen', 'little': 'littl', 'bigger': 'big', 'than': 'than', 'mine': 'min', '3.4': '3.4', 'got': 'got', 'feels': 'feel', 'those': 'thos', 'were': 'wer', 'times': 'tim', '3.5': '3.5', 'so': 'so', 'wholesome': 'wholesom', 'Hope': 'hop', 'have': 'hav', 'great': 'gre', '4.1': '4.1', 'hope': 'hop', 'they': 'they', 'gift': 'gift', 'amiibos': 'amiibo', '4.4': '4.4', 'Happy': 'happy', 'birthday': 'birthday', \"'d\": \"'d\", 'love': 'lov', 'be': 'be', 'at': 'at', 'party': 'party', 'Which': 'which', 'animal': 'anim', 'would': 'would', 'definitely': 'definit', 'invite': 'invit', '4.5': '4.5', 'What': 'what', 'wonderful': 'wond', 'spread': 'spread', 'Your': 'yo', 'cake': 'cak', 'adorable': 'ad', 'your': 'yo', 'Isabelle-inspire': 'isabelle-inspir', 'outfit': 'outfit', 'Bir': 'bir'}\n"
     ]
    }
   ],
   "source": [
    "# stemming\n",
    "\n",
    "from nltk.stem.porter import PorterStemmer\n",
    "from nltk.stem.lancaster import LancasterStemmer\n",
    "from nltk.stem import SnowballStemmer\n",
    "\n",
    "def get_tokens():\n",
    "    with open(comments) as stem:\n",
    "        tokens = nltk.word_tokenize(stem.read())\n",
    "    return tokens\n",
    "\n",
    "def do_stemming(filtered):\n",
    "    stemmed = []\n",
    "    for f in filtered:\n",
    "        #stemmed.append(PorterStemmer().stem(f))\n",
    "        stemmed.append(LancasterStemmer().stem(f))\n",
    "        #stemmed.append(SnowballStemmer('english').stem(f))\n",
    "    return stemmed\n",
    "\n",
    "\n",
    "tokens = get_tokens()\n",
    "stemmed_tokens = do_stemming(tokens)\n",
    "result = dict(zip(tokens, stemmed_tokens))\n",
    "print(\"{tokens:stemmed} = \",  result)"
   ]
  },
  {
   "cell_type": "code",
   "execution_count": 19,
   "metadata": {},
   "outputs": [
    {
     "name": "stdout",
     "output_type": "stream",
     "text": [
      "{tokens:lemmas} =  {'1': '1', '-': '-', '[': '[', 'MEGATHREAD': 'MEGATHREAD', ']': ']', 'Direct': 'Direct', '9/4/2019': '9/4/2019', ':': ':', 'March': 'March', '20th': '20th', ',': ',', '2020': '2020', 'Release': 'Release', 'Date': 'Date', 'and': 'and', 'Other': 'Other', 'Updates': 'Updates', '1.1': '1.1', 'Did': 'Did', 'anyone': 'anyone', 'else': 'else', 'spot': 'spot', 'that': 'that', 'giant': 'giant', 'mushroom': 'mushroom', '?': '?', '1.2': '1.2', 'I': 'I', 'HAVEN': 'HAVEN', '’': '’', 'T': 'T', 'WATCHED': 'WATCHED', 'IT': 'IT', 'YET': 'YET', 'BUT': 'BUT', 'HAD': 'HAD', 'A': 'A', 'LARGE': 'LARGE', 'MARGARITA': 'MARGARITA', 'AND': 'AND', 'M': 'M', 'READY': 'READY', '1.3': '1.3', 'long': 'long', 'dresses': 'dress', 'with': 'with', 'cloth': 'cloth', 'physics': 'physics', '1.4': '1.4', 'm': 'm', 'still': 'still', 'desperate': 'desperate', 'to': 'to', 'know': 'know', 'what': 'what', 'mid': 'mid', 'late': 'late', 'game': 'game', 'looks': 'look', 'like': 'like', '.': '.', 'Edit': 'Edit', 'catch': 'catch', 'the': 'the', 'four': 'four', 'bird': 'bird', '1.5': '1.5', 'The': 'The', 'flower': 'flower', 'crowns': 'crown', 'though': 'though', '!': '!', 'If': 'If', 'KK': 'KK', 'Slider': 'Slider', 'is': 'be', 'there': 'there', 'it': 'it', 's': 's', 'basically': 'basically', 'Coachella': 'Coachella', '2': '2', 'made': 'make', 'my': 'my', '2nd': '2nd', 'character': 'character', 'look': 'look', 'Sousuke': 'Sousuke', 'from': 'from', 'Ponyo': 'Ponyo', '2.1': '2.1', 'need': 'need', 'some': 'some', 'Ghibli': 'Ghibli', 'themed': 'theme', 'villagers': 'villagers', 'NOW': 'NOW', '2.2': '2.2', 'wants': 'want', 'ham': 'ham', '2.3': '2.3', 'this': 'this', 'makes': 'make', 'me': 'me', 'want': 'want', 'binge': 'binge', 'ghibli': 'ghibli', 'movies': 'movies', 'again': 'again', 'even': 'even', 'i': 'i', 'just': 'just', 'did': 'do', 'last': 'last', 'month': 'month', 'lol': 'lol', '2.4': '2.4', 'PONYO': 'PONYO', 'LIKES': 'LIKES', 'HAM': 'HAM', '2.5': '2.5', 'Damn': 'Damn', 'right': 'right', 'in': 'in', 'Ghiblis': 'Ghiblis', 'Super': 'Super', 'cute': 'cute', '3': '3', \"'m\": \"'m\", 'going': 'go', 'on': 'on', 'a': 'a', 'trip': 'trip', 'school': 'school', 'im': 'im', 'bus': 'bus', 'favorite': 'favorite', 'snacks': 'snack', 'g': 'g', '3.1': '3.1', 'you': 'you', 'streetpass': 'streetpass', 'someone': 'someone', 'who': 'who', 'player': 'player', 'Duck': 'Duck', 'kimono': 'kimono', 'COMRADE': 'COMRADE', 'DUCK': 'DUCK', '3.2': '3.2', 'Ahhh': 'Ahhh', 'good': 'good', 'old': 'old', 'days': 'days', '3.3': '3.3', 'This': 'This', 'stupid': 'stupid', 'question': 'question', 'but': 'but', 'new': 'new', '3DS': '3DS', 'bottom': 'bottom', 'screen': 'screen', 'little': 'little', 'bigger': 'bigger', 'than': 'than', 'mine': 'mine', '3.4': '3.4', 'got': 'get', 'feels': 'feel', 'those': 'those', 'were': 'be', 'times': 'time', '3.5': '3.5', 'so': 'so', 'wholesome': 'wholesome', 'Hope': 'Hope', 'have': 'have', 'great': 'great', '4.1': '4.1', 'hope': 'hope', 'they': 'they', 'gift': 'gift', 'amiibos': 'amiibos', '4.4': '4.4', 'Happy': 'Happy', 'birthday': 'birthday', \"'d\": \"'d\", 'love': 'love', 'be': 'be', 'at': 'at', 'party': 'party', 'Which': 'Which', 'animal': 'animal', 'would': 'would', 'definitely': 'definitely', 'invite': 'invite', '4.5': '4.5', 'What': 'What', 'wonderful': 'wonderful', 'spread': 'spread', 'Your': 'Your', 'cake': 'cake', 'adorable': 'adorable', 'your': 'your', 'Isabelle-inspire': 'Isabelle-inspire', 'outfit': 'outfit', 'Bir': 'Bir'}\n"
     ]
    }
   ],
   "source": [
    "# lemmatization\n",
    "\n",
    "from nltk.stem.wordnet import WordNetLemmatizer\n",
    "lmtzr = WordNetLemmatizer()\n",
    "\n",
    "def get_tokens():\n",
    "    with open(comments) as stem:\n",
    "        tokens = nltk.word_tokenize(stem.read())\n",
    "    return tokens\n",
    "\n",
    "def do_lemma(filtered):\n",
    "    lemmize = []\n",
    "    for f in filtered:\n",
    "        lemmize.append(lmtzr.lemmatize(f, 'v'))\n",
    "    return lemmize\n",
    "\n",
    "\n",
    "tokens = get_tokens()\n",
    "#print(\"tokens = \",  tokens)\n",
    "\n",
    "lemma_tokens = do_lemma(tokens)\n",
    "#print(\"stemmed_tokens = \",  stemmed_tokens)\n",
    "\n",
    "result = dict(zip(tokens, lemma_tokens))\n",
    "print(\"{tokens:lemmas} = \",  result)"
   ]
  },
  {
   "cell_type": "code",
   "execution_count": null,
   "metadata": {},
   "outputs": [],
   "source": []
  }
 ],
 "metadata": {
  "kernelspec": {
   "display_name": "Python 3",
   "language": "python",
   "name": "python3"
  },
  "language_info": {
   "codemirror_mode": {
    "name": "ipython",
    "version": 3
   },
   "file_extension": ".py",
   "mimetype": "text/x-python",
   "name": "python",
   "nbconvert_exporter": "python",
   "pygments_lexer": "ipython3",
   "version": "3.7.3"
  }
 },
 "nbformat": 4,
 "nbformat_minor": 2
}
