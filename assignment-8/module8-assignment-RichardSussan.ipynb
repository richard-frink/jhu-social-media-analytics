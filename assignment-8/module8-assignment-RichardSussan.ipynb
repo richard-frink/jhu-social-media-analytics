{
 "cells": [
  {
   "cell_type": "markdown",
   "metadata": {},
   "source": [
    "The structure of the notebook is as follows:\n",
    "\n",
    "- import necessary packages\n",
    "- read in all the data from the XLS\n",
    "    - I am reading in the 101 entries from the first sheets as it is the consolidated data that matters\n",
    "- filter the full set into the training and test sets\n",
    "- train\n",
    "- test\n",
    "- results"
   ]
  },
  {
   "cell_type": "code",
   "execution_count": 17,
   "metadata": {
    "scrolled": true
   },
   "outputs": [
    {
     "name": "stdout",
     "output_type": "stream",
     "text": [
      "Collecting package metadata (current_repodata.json): done\n",
      "Solving environment: done\n",
      "\n",
      "# All requested packages already installed.\n",
      "\n",
      "Collecting package metadata (current_repodata.json): done\n",
      "Solving environment: done\n",
      "\n",
      "# All requested packages already installed.\n",
      "\n"
     ]
    }
   ],
   "source": [
    "import sys\n",
    "!conda install --yes --prefix {sys.prefix} -c anaconda xlrd\n",
    "!conda install --yes --prefix {sys.prefix} -c anaconda scikit-learn"
   ]
  },
  {
   "cell_type": "code",
   "execution_count": 43,
   "metadata": {
    "scrolled": false
   },
   "outputs": [
    {
     "name": "stdout",
     "output_type": "stream",
     "text": [
      "                                          Post Message         Type  \\\n",
      "0    Dont forget, our Spring Savings Event is going...        Photo   \n",
      "1    https://www.facebook.com/natalie.birner/posts/...  SharedVideo   \n",
      "2    Got a new bike in the last year or so and look...        Photo   \n",
      "3    Just in! New HiVis Endura jerseys and riding s...        Photo   \n",
      "4                                   Sale ends March 31        Photo   \n",
      "..                                                 ...          ...   \n",
      "96   Our Saturday morning road ride leaves the shop...       Status   \n",
      "97   Gear up for adventurous rides with our 40% Off...        Photo   \n",
      "98   Some of our employees took an awesome trip dow...        Photo   \n",
      "99   Our Saturday morning road ride leaves the shop...       Status   \n",
      "100  Grab your coolest riding gear and plenty of wa...       Status   \n",
      "\n",
      "                 Posted  Impressions  Weather Weekend  Thousand  PostLength  \n",
      "0   2016-03-03 03:13:00         1220     Snow       N         1         178  \n",
      "1   2016-03-03 06:05:00          165     Snow       N         0          63  \n",
      "2   2016-03-04 12:25:00         1398     Snow       Y         1         185  \n",
      "3   2016-03-04 13:16:00         1174     Snow       Y         1         183  \n",
      "4   2016-03-04 14:19:00         1030     Snow       Y         1          18  \n",
      "..                  ...          ...      ...     ...       ...         ...  \n",
      "96  2016-07-08 15:15:00           69     Rain       Y         0          69  \n",
      "97  2016-07-14 09:42:00         1515  Thunder       N         1          59  \n",
      "98  2016-07-14 15:43:00          291  Thunder       N         0         244  \n",
      "99  2016-07-15 14:51:00           89      NaN       Y         0          73  \n",
      "100 2016-07-22 15:29:00          156      NaN       Y         0         115  \n",
      "\n",
      "[101 rows x 8 columns]\n"
     ]
    }
   ],
   "source": [
    "import pandas as pd\n",
    "import numpy as np\n",
    "from sklearn.metrics import classification_report\n",
    "from sklearn.metrics import confusion_matrix\n",
    "from sklearn.metrics import accuracy_score\n",
    "from sklearn.neighbors import KNeighborsClassifier\n",
    "from sklearn.svm import SVC\n",
    "from sklearn.model_selection import train_test_split\n",
    "from sklearn import preprocessing\n",
    "\n",
    "dataFile = \"SocialMediaInsightsforMachineLearning.xlsx\"\n",
    "\n",
    "data = pd.read_excel(dataFile)\n",
    "print(data.head(101))\n",
    "\n",
    "data.drop(\"Post Message\", axis=1, inplace=True)\n",
    "data.drop(\"Posted\", axis=1, inplace=True)\n",
    "\n",
    "data[\"Weather\"] = map(np.nan, \"Sunny\")\n",
    "\n",
    "for column in data.columns:\n",
    "    if data[column].dtype == type(object):\n",
    "        le = preprocessing.LabelEncoder()\n",
    "        data[column] = le.fit_transform(data[column])\n",
    "\n",
    "x = data.iloc[:,[0,2,3,5]].values\n",
    "y = data['Thousand']\n",
    "\n",
    "x_train, x_test, y_train, y_test = train_test_split(x, y, test_size=0.20, random_state=27)"
   ]
  },
  {
   "cell_type": "code",
   "execution_count": 52,
   "metadata": {},
   "outputs": [
    {
     "name": "stdout",
     "output_type": "stream",
     "text": [
      "0.9523809523809523\n",
      "[[19  1]\n",
      " [ 0  1]]\n"
     ]
    },
    {
     "name": "stderr",
     "output_type": "stream",
     "text": [
      "/opt/miniconda3/envs/conda_env/lib/python3.7/site-packages/sklearn/svm/base.py:193: FutureWarning: The default value of gamma will change from 'auto' to 'scale' in version 0.22 to account better for unscaled features. Set gamma explicitly to 'auto' or 'scale' to avoid this warning.\n",
      "  \"avoid this warning.\", FutureWarning)\n"
     ]
    }
   ],
   "source": [
    "SVC_model = SVC()\n",
    "SVC_model.fit(x_train, y_train)\n",
    "\n",
    "SVC_prediction = SVC_model.predict(x_test)\n",
    "\n",
    "print(accuracy_score(SVC_prediction, y_test))\n",
    "\n",
    "print(confusion_matrix(SVC_prediction, y_test))"
   ]
  },
  {
   "cell_type": "code",
   "execution_count": null,
   "metadata": {},
   "outputs": [],
   "source": []
  }
 ],
 "metadata": {
  "kernelspec": {
   "display_name": "Python 3",
   "language": "python",
   "name": "python3"
  },
  "language_info": {
   "codemirror_mode": {
    "name": "ipython",
    "version": 3
   },
   "file_extension": ".py",
   "mimetype": "text/x-python",
   "name": "python",
   "nbconvert_exporter": "python",
   "pygments_lexer": "ipython3",
   "version": "3.7.3"
  }
 },
 "nbformat": 4,
 "nbformat_minor": 2
}
