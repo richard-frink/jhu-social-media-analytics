{
 "cells": [
  {
   "cell_type": "code",
   "execution_count": null,
   "metadata": {
    "scrolled": true
   },
   "outputs": [
    {
     "name": "stdout",
     "output_type": "stream",
     "text": [
      "Collecting package metadata (current_repodata.json): done\n",
      "Solving environment: done\n",
      "\n",
      "## Package Plan ##\n",
      "\n",
      "  environment location: /opt/miniconda3/envs/conda_env\n",
      "\n",
      "  added / updated specs:\n",
      "    - scikit-learn\n",
      "\n",
      "\n",
      "The following packages will be downloaded:\n",
      "\n",
      "    package                    |            build\n",
      "    ---------------------------|-----------------\n",
      "    blas-1.0                   |              mkl           6 KB  anaconda\n",
      "    ca-certificates-2019.8.28  |                0         132 KB  anaconda\n",
      "    certifi-2019.9.11          |           py37_0         154 KB  anaconda\n",
      "    intel-openmp-2019.5        |              281         895 KB  anaconda\n",
      "    joblib-0.13.2              |           py37_0         363 KB  anaconda\n",
      "    libgfortran-ng-7.3.0       |       hdf63c60_0         1.3 MB  anaconda\n",
      "    mkl-2019.5                 |              281       205.3 MB  anaconda\n",
      "    mkl-service-2.3.0          |   py37he904b0f_0         208 KB  anaconda\n",
      "    mkl_fft-1.0.14             |   py37ha843d7b_0         172 KB  anaconda\n",
      "    mkl_random-1.1.0           |   py37hd6b4f25_0         376 KB  anaconda\n",
      "    numpy-1.17.2               |   py37haad9e8e_0           4 KB  anaconda\n",
      "    numpy-base-1.17.2          |   py37hde5b4d6_0         5.3 MB  anaconda\n",
      "    openssl-1.1.1              |       h7b6447c_0         5.0 MB  anaconda\n",
      "    scikit-learn-0.21.3        |   py37hd81dba3_0         6.8 MB  anaconda\n",
      "    scipy-1.3.1                |   py37h7c811a0_0        18.1 MB  anaconda\n",
      "    ------------------------------------------------------------\n",
      "                                           Total:       244.0 MB\n",
      "\n",
      "The following NEW packages will be INSTALLED:\n",
      "\n",
      "  blas               anaconda/linux-64::blas-1.0-mkl\n",
      "  intel-openmp       anaconda/linux-64::intel-openmp-2019.5-281\n",
      "  joblib             anaconda/linux-64::joblib-0.13.2-py37_0\n",
      "  libgfortran-ng     anaconda/linux-64::libgfortran-ng-7.3.0-hdf63c60_0\n",
      "  mkl                anaconda/linux-64::mkl-2019.5-281\n",
      "  mkl-service        anaconda/linux-64::mkl-service-2.3.0-py37he904b0f_0\n",
      "  mkl_fft            anaconda/linux-64::mkl_fft-1.0.14-py37ha843d7b_0\n",
      "  mkl_random         anaconda/linux-64::mkl_random-1.1.0-py37hd6b4f25_0\n",
      "  numpy              anaconda/linux-64::numpy-1.17.2-py37haad9e8e_0\n",
      "  numpy-base         anaconda/linux-64::numpy-base-1.17.2-py37hde5b4d6_0\n",
      "  scikit-learn       anaconda/linux-64::scikit-learn-0.21.3-py37hd81dba3_0\n",
      "  scipy              anaconda/linux-64::scipy-1.3.1-py37h7c811a0_0\n",
      "\n",
      "The following packages will be UPDATED:\n",
      "\n",
      "  openssl            conda-forge::openssl-1.1.1c-h516909a_0 --> anaconda::openssl-1.1.1-h7b6447c_0\n",
      "\n",
      "The following packages will be SUPERSEDED by a higher-priority channel:\n",
      "\n",
      "  ca-certificates    conda-forge::ca-certificates-2019.9.1~ --> anaconda::ca-certificates-2019.8.28-0\n",
      "  certifi                                       conda-forge --> anaconda\n",
      "\n",
      "\n",
      "\n",
      "Downloading and Extracting Packages\n",
      "joblib-0.13.2        | 363 KB    | ##################################### | 100% \n",
      "mkl_fft-1.0.14       | 172 KB    | ##################################### | 100% \n",
      "scikit-learn-0.21.3  | 6.8 MB    | ##################################### | 100% \n",
      "blas-1.0             | 6 KB      | ##################################### | 100% \n",
      "intel-openmp-2019.5  | 895 KB    | ##################################### | 100% \n",
      "ca-certificates-2019 | 132 KB    | ##################################### | 100% \n",
      "libgfortran-ng-7.3.0 | 1.3 MB    | ##################################### | 100% \n",
      "mkl_random-1.1.0     | 376 KB    | ##################################### | 100% \n",
      "numpy-1.17.2         | 4 KB      | ##################################### | 100% \n",
      "openssl-1.1.1        | 5.0 MB    | ##################################### | 100% \n",
      "mkl-2019.5           | 205.3 MB  | ###################################8  |  97% "
     ]
    }
   ],
   "source": [
    "import sys\n",
    "!conda install --yes --prefix {sys.prefix} -c anaconda scikit-learn\n",
    "!{sys.executable} -m pip install pandas-profiling==2.3.0"
   ]
  },
  {
   "cell_type": "code",
   "execution_count": null,
   "metadata": {
    "scrolled": true
   },
   "outputs": [],
   "source": [
    "import pandas as pd\n",
    "import pandas_profiling\n",
    "import numpy as np\n",
    "from sklearn import preprocessing\n",
    "\n",
    "ms1 = \"one-star-michelin-restaurants.csv\"\n",
    "ms2 = \"two-stars-michelin-restaurants.csv\"\n",
    "ms3 = \"three-stars-michelin-restaurants.csv\"\n",
    "\n",
    "def normalizeRestaurantCsv(frame):\n",
    "    #price\n",
    "    priceMode = str(frame[\"price\"].mode(dropna=True)[0])\n",
    "    frame[\"price\"] = frame[\"price\"].replace(to_replace=np.nan, value=priceMode)\n",
    "    return frame\n"
   ]
  },
  {
   "cell_type": "code",
   "execution_count": null,
   "metadata": {
    "scrolled": true
   },
   "outputs": [],
   "source": [
    "print(\"1 Michelin Star\")\n",
    "ms1Frame = pd.read_csv(ms1)\n",
    "ms1Frame = normalizeRestaurantCsv(ms1Frame)\n",
    "ms1Frame.profile_report()"
   ]
  },
  {
   "cell_type": "code",
   "execution_count": null,
   "metadata": {},
   "outputs": [],
   "source": [
    "print(\"2 Michelin Stars\")\n",
    "ms2Frame = pd.read_csv(ms2)\n",
    "ms2Frame = normalizeRestaurantCsv(ms2Frame)\n",
    "ms2Frame.profile_report()"
   ]
  },
  {
   "cell_type": "code",
   "execution_count": null,
   "metadata": {},
   "outputs": [],
   "source": [
    "print(\"3 Michelin Stars\")\n",
    "ms3Frame = pd.read_csv(ms3)\n",
    "ms3Frame = normalizeRestaurantCsv(ms3Frame)\n",
    "ms3Frame.profile_report()"
   ]
  },
  {
   "cell_type": "code",
   "execution_count": null,
   "metadata": {},
   "outputs": [],
   "source": []
  }
 ],
 "metadata": {
  "kernelspec": {
   "display_name": "Python 3",
   "language": "python",
   "name": "python3"
  },
  "language_info": {
   "codemirror_mode": {
    "name": "ipython",
    "version": 3
   },
   "file_extension": ".py",
   "mimetype": "text/x-python",
   "name": "python",
   "nbconvert_exporter": "python",
   "pygments_lexer": "ipython3",
   "version": "3.7.3"
  }
 },
 "nbformat": 4,
 "nbformat_minor": 2
}
