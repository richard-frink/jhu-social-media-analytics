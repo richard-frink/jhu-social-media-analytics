{
 "cells": [
  {
   "cell_type": "code",
   "execution_count": 7,
   "metadata": {
    "scrolled": true
   },
   "outputs": [
    {
     "name": "stdout",
     "output_type": "stream",
     "text": [
      "Collecting package metadata (current_repodata.json): ...working... done\n",
      "Solving environment: ...working... done\n",
      "\n",
      "# All requested packages already installed.\n",
      "\n",
      "Collecting package metadata (current_repodata.json): ...working... done\n",
      "Solving environment: ...working... \n",
      "Warning: >10 possible package resolutions (only showing differing packages):\n",
      "  - anaconda::ca-certificates-2019.5.15-0, anaconda::certifi-2019.6.16-py37_0, anaconda::conda-4.7.12-py37_0, anaconda::openssl-1.1.1c-he774522_1\n",
      "  - anaconda::ca-certificates-2019.5.15-0, anaconda::certifi-2019.6.16-py37_0, anaconda::openssl-1.1.1c-he774522_1, defaults::conda-4.7.12-py37_0\n",
      "  - anaconda::certifi-2019.6.16-py37_0, anaconda::conda-4.7.12-py37_0, anaconda::openssl-1.1.1c-he774522_1, defaults::ca-certificates-2019.5.15-0\n",
      "  - anaconda::certifi-2019.6.16-py37_0, anaconda::openssl-1.1.1c-he774522_1, defaults::ca-certificates-2019.5.15-0, defaults::conda-4.7.12-py37_0\n",
      "  - anaconda::certifi-2019.6.16-py37_0, anaconda::conda-4.7.12-py37_0, defaults::ca-certificates-2019.5.15-0, defaults::openssl-1.1.1c-he774522_1\n",
      "  - anaconda::certifi-2019.6.16-py37_0, defaults::ca-certificates-2019.5.15-0, defaults::conda-4.7.12-py37_0, defaults::openssl-1.1.1c-he774522_1\n",
      "  - anaconda::ca-certificates-2019.5.15-0, anaconda::certifi-2019.6.16-py37_0, anaconda::conda-4.7.12-py37_0, defaults::openssl-1.1.1c-he774522_1\n",
      "  - anaconda::ca-certificates-2019.5.15-0, anaconda::certifi-2019.6.16-py37_0, defaults::conda-4.7.12-py37_0, defaults::openssl-1.1.1c-he774522_1\n",
      "  - anaconda::ca-certificates-2019.5.15-0, anaconda::conda-4.7.12-py37_0, defaults::certifi-2019.6.16-py37_0, defaults::openssl-1.1.1c-he774522_1\n",
      "  - anaconda::ca-certificates-2019.5.15-0, anaconda::conda-4.7.12-py37_0, anaconda::openssl-1.1.1c-he774522_1, defaults::certifi-2019.6.16-py37_0\n",
      "  ... and othersdone\n",
      "\n",
      "# All requested packages already installed.\n",
      "\n",
      "Collecting package metadata (current_repodata.json): ...working... done\n",
      "Solving environment: ...working... \n",
      "Warning: 8 possible package resolutions (only showing differing packages):\n",
      "  - anaconda::ca-certificates-2019.5.15-0, anaconda::certifi-2019.6.16-py37_0, anaconda::openssl-1.1.1c-he774522_1\n",
      "  - anaconda::certifi-2019.6.16-py37_0, anaconda::openssl-1.1.1c-he774522_1, defaults::ca-certificates-2019.5.15-0\n",
      "  - anaconda::ca-certificates-2019.5.15-0, anaconda::openssl-1.1.1c-he774522_1, defaults::certifi-2019.6.16-py37_0\n",
      "  - anaconda::openssl-1.1.1c-he774522_1, defaults::ca-certificates-2019.5.15-0, defaults::certifi-2019.6.16-py37_0\n",
      "  - anaconda::ca-certificates-2019.5.15-0, defaults::certifi-2019.6.16-py37_0, defaults::openssl-1.1.1c-he774522_1\n",
      "  - defaults::ca-certificates-2019.5.15-0, defaults::certifi-2019.6.16-py37_0, defaults::openssl-1.1.1c-he774522_1\n",
      "  - anaconda::ca-certificates-2019.5.15-0, anaconda::certifi-2019.6.16-py37_0, defaults::openssl-1.1.1c-he774522_1\n",
      "  - anaconda::certifi-2019.6.16-py37_0, defaults::ca-certificates-2019.5.15-0, defaults::openssl-1.1.1c-he774522_1done\n",
      "\n",
      "## Package Plan ##\n",
      "\n",
      "  environment location: D:\\Anaconda3\n",
      "\n",
      "  added / updated specs:\n",
      "    - matplotlib\n",
      "\n",
      "\n",
      "The following packages will be downloaded:\n",
      "\n",
      "    package                    |            build\n",
      "    ---------------------------|-----------------\n",
      "    conda-4.7.12               |           py37_0         3.0 MB  conda-forge\n",
      "    ------------------------------------------------------------\n",
      "                                           Total:         3.0 MB\n",
      "\n",
      "The following packages will be SUPERSEDED by a higher-priority channel:\n",
      "\n",
      "  conda                                            anaconda --> conda-forge\n",
      "\n",
      "\n",
      "\n",
      "Downloading and Extracting Packages\n",
      "\n",
      "conda-4.7.12         | 3.0 MB    |            |   0% \n",
      "conda-4.7.12         | 3.0 MB    |            |   1% \n",
      "conda-4.7.12         | 3.0 MB    | #########6 |  96% \n",
      "conda-4.7.12         | 3.0 MB    | ########## | 100% \n",
      "Preparing transaction: ...working... done\n",
      "Verifying transaction: ...working... done\n",
      "Executing transaction: ...working... done\n"
     ]
    }
   ],
   "source": [
    "import sys\n",
    "!conda install --yes --prefix {sys.prefix} -c anaconda networkx\n",
    "!conda install --yes --prefix {sys.prefix} -c plotly plotly\n",
    "!conda install --yes --prefix {sys.prefix} -c conda-forge matplotlib"
   ]
  },
  {
   "cell_type": "code",
   "execution_count": 43,
   "metadata": {
    "scrolled": true
   },
   "outputs": [
    {
     "data": {
      "image/png": "[encoded data removed]",
      "text/plain": [
       "<Figure size 432x288 with 2 Axes>"
      ]
     },
     "metadata": {
      "needs_background": "light"
     },
     "output_type": "display_data"
    }
   ],
   "source": [
    "from __future__ import division\n",
    "import matplotlib as mpl\n",
    "import matplotlib.pyplot as plt\n",
    "import networkx as nx\n",
    "\n",
    "# read from the text file for the edges and nodes, make a graph with that\n",
    "# instagram-input.txt\n",
    "# comma delimited => user,category1,category2\n",
    "\n",
    "filename = \"C:\\develop\\jupyter-notebooks\\social-media-analytics\\m5-assignment\\instagram-input.txt\"\n",
    "with open(filename) as f:\n",
    "    content = f.readlines()\n",
    "content = [x.strip() for x in content]\n",
    "\n",
    "splitData = [line.split(\",\") for line in content]\n",
    "\n",
    "users = []\n",
    "cat1 = []\n",
    "cat2 = []\n",
    "edges = []\n",
    "\n",
    "for a,b,c in splitData:\n",
    "    users.append(a)\n",
    "    cat1.append(b)\n",
    "    cat2.append(c)\n",
    "    edges.append([a,b])\n",
    "    edges.append([a,c])\n",
    "\n",
    "# distinct the lists\n",
    "distinctUsers = list(set(users))\n",
    "distinctCat1 = list(set(cat1))\n",
    "distinctCat2 = list(set(cat2))\n",
    "\n",
    "G = nx.DiGraph()\n",
    "\n",
    "# add the nodes\n",
    "G.add_nodes_from(distinctUsers)\n",
    "G.add_nodes_from(distinctCat1)\n",
    "G.add_nodes_from(distinctCat2)\n",
    "\n",
    "# add the edges\n",
    "G.add_edges_from(edges)\n",
    "\n",
    "pos = nx.layout.spring_layout(G, scale=15, k=8)\n",
    "\n",
    "node_sizes = [i for i in range(len(G))]\n",
    "M = G.number_of_edges()\n",
    "edge_colors = range(2, M + 2)\n",
    "edge_alphas = [(5 + i) / (M + 4) for i in range(M)]\n",
    "\n",
    "nodes = nx.draw_networkx_nodes(G, pos, node_size=node_sizes, node_color='blue')\n",
    "edges = nx.draw_networkx_edges(G, pos, node_size=node_sizes, arrowstyle='->',\n",
    "                               arrowsize=10, edge_color=edge_colors,\n",
    "                               edge_cmap=plt.cm.Blues, width=1)\n",
    "# set alpha value for each edge\n",
    "for i in range(M):\n",
    "    edges[i].set_alpha(edge_alphas[i])\n",
    "\n",
    "pc = mpl.collections.PatchCollection(edges, cmap=plt.cm.Blues)\n",
    "pc.set_array(edge_colors)\n",
    "plt.colorbar(pc)\n",
    "\n",
    "ax = plt.gca()\n",
    "ax.set_axis_off()\n",
    "plt.show()"
   ]
  },
  {
   "cell_type": "code",
   "execution_count": null,
   "metadata": {},
   "outputs": [],
   "source": []
  }
 ],
 "metadata": {
  "kernelspec": {
   "display_name": "Python 3",
   "language": "python",
   "name": "python3"
  },
  "language_info": {
   "codemirror_mode": {
    "name": "ipython",
    "version": 3
   },
   "file_extension": ".py",
   "mimetype": "text/x-python",
   "name": "python",
   "nbconvert_exporter": "python",
   "pygments_lexer": "ipython3",
   "version": "3.7.3"
  }
 },
 "nbformat": 4,
 "nbformat_minor": 2
}
