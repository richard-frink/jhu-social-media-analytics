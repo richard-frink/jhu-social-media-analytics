{
 "cells": [
  {
   "cell_type": "code",
   "execution_count": 1,
   "metadata": {},
   "outputs": [
    {
     "name": "stdout",
     "output_type": "stream",
     "text": [
      "Collecting package metadata (current_repodata.json): ...working... done\n",
      "Solving environment: ...working... done\n",
      "\n",
      "# All requested packages already installed.\n",
      "\n",
      "Collecting package metadata (current_repodata.json): ...working... done\n",
      "Solving environment: ...working... done\n",
      "\n",
      "# All requested packages already installed.\n",
      "\n",
      "Collecting package metadata (current_repodata.json): ...working... done\n",
      "Solving environment: ...working... done\n",
      "\n",
      "# All requested packages already installed.\n",
      "\n",
      "Collecting package metadata (current_repodata.json): ...working... done\n",
      "Solving environment: ...working... done\n",
      "\n",
      "# All requested packages already installed.\n",
      "\n",
      "Collecting package metadata (current_repodata.json): ...working... done\n",
      "Solving environment: ...working... done\n",
      "\n",
      "# All requested packages already installed.\n",
      "\n"
     ]
    }
   ],
   "source": [
    "import sys\n",
    "!conda install --yes --prefix {sys.prefix} -c conda-forge google-api-python-client\n",
    "!conda install --yes --prefix {sys.prefix} -c conda-forge google-auth-oauthlib\n",
    "!conda install --yes --prefix {sys.prefix} -c conda-forge google-auth-httplib2\n",
    "!conda install --yes --prefix {sys.prefix} -c conda-forge oauth2client\n",
    "!conda install --yes --prefix {sys.prefix} -c conda-forge praw"
   ]
  },
  {
   "cell_type": "code",
   "execution_count": 2,
   "metadata": {
    "scrolled": true
   },
   "outputs": [],
   "source": [
    "from pathlib import Path\n",
    "\n",
    "keyFolder = Path(\"C://develop/keys/social_media_analytics/\")\n",
    "\n",
    "redditKeyFile = keyFolder / \"reddit.txt\"\n",
    "\n",
    "with open(redditKeyFile) as file:\n",
    "    content = file.readlines()\n",
    "\n",
    "clientId = content[0].split(':')[1].strip()\n",
    "clientSecret = content[1].split(':')[1].strip()\n",
    "password = content[2].split(':')[1].strip()\n",
    "username = content[3].split(':')[1].strip()"
   ]
  },
  {
   "cell_type": "code",
   "execution_count": 1,
   "metadata": {
    "scrolled": true
   },
   "outputs": [
    {
     "ename": "NameError",
     "evalue": "name 'clientId' is not defined",
     "output_type": "error",
     "traceback": [
      "\u001b[1;31m---------------------------------------------------------------------------\u001b[0m",
      "\u001b[1;31mNameError\u001b[0m                                 Traceback (most recent call last)",
      "\u001b[1;32m<ipython-input-1-89bf8e1b8c6f>\u001b[0m in \u001b[0;36m<module>\u001b[1;34m\u001b[0m\n\u001b[0;32m      5\u001b[0m \u001b[1;32mimport\u001b[0m \u001b[0mos\u001b[0m\u001b[1;33m\u001b[0m\u001b[1;33m\u001b[0m\u001b[0m\n\u001b[0;32m      6\u001b[0m \u001b[0mfile\u001b[0m \u001b[1;33m=\u001b[0m \u001b[0mopen\u001b[0m\u001b[1;33m(\u001b[0m\u001b[1;34m\"reddit.txt\"\u001b[0m\u001b[1;33m,\u001b[0m \u001b[1;34m\"w\"\u001b[0m\u001b[1;33m)\u001b[0m\u001b[1;33m\u001b[0m\u001b[1;33m\u001b[0m\u001b[0m\n\u001b[1;32m----> 7\u001b[1;33m r = praw.Reddit(client_id=clientId,\n\u001b[0m\u001b[0;32m      8\u001b[0m                 \u001b[0mclient_secret\u001b[0m\u001b[1;33m=\u001b[0m\u001b[0mclientSecret\u001b[0m\u001b[1;33m,\u001b[0m\u001b[1;33m\u001b[0m\u001b[1;33m\u001b[0m\u001b[0m\n\u001b[0;32m      9\u001b[0m                 \u001b[0mpassword\u001b[0m\u001b[1;33m=\u001b[0m\u001b[0mpassword\u001b[0m\u001b[1;33m,\u001b[0m\u001b[1;33m\u001b[0m\u001b[1;33m\u001b[0m\u001b[0m\n",
      "\u001b[1;31mNameError\u001b[0m: name 'clientId' is not defined"
     ]
    }
   ],
   "source": [
    "__author__ = 'rsussan'\n",
    "# Simple PRAW Script to Read SubRedit on Hopkins\n",
    "import praw\n",
    "import json\n",
    "import os\n",
    "file = open(\"reddit.txt\", \"w\")\n",
    "r = praw.Reddit(client_id=clientId,\n",
    "                client_secret=clientSecret,\n",
    "                password=password,\n",
    "                user_agent='testScript by /u/rsussan',\n",
    "                username=username)\n",
    "\n",
    "filePath = \"C:\\\\develop\\\\jupyter-notebooks\\\\social-media-analytics\\\\m2-assignment\\\\q1-output-comments.txt\"\n",
    "try:\n",
    "    os.remove(filePath)\n",
    "except:\n",
    "    print(\"no file to remove\")\n",
    "f=open(filePath, \"a+\")\n",
    "\n",
    "id = 0\n",
    "for post in r.subreddit('AnimalCrossing').hot(limit=5):\n",
    "    id = id + 1\n",
    "    # first 100 characters of post title\n",
    "    #title = str(id) + ' - ' + post.title[0:100] + '\\n'\n",
    "    #try:\n",
    "        #f.write(title)\n",
    "    #except:\n",
    "        #f.write(\"error writing title \" + str(id) + \"\\n\")\n",
    "    subId = 0\n",
    "    #f.write('*first five comments*\\n')\n",
    "    for comment in post.comments[0:30]:\n",
    "        subId = subId + 1\n",
    "        #comm = ' --- ' + str(subId) + ' - ' + comment.body + '\\n'\n",
    "        comm = comment.body + '\\n'\n",
    "        try:\n",
    "            f.write(comm)\n",
    "        except:\n",
    "            f.write(\"error writing comment \" + str(subId) + \"\\n\")\n",
    "\n",
    "f.close()"
   ]
  },
  {
   "cell_type": "code",
   "execution_count": 7,
   "metadata": {},
   "outputs": [],
   "source": [
    "from pathlib import Path\n",
    "\n",
    "keyFolder = Path(\"C://develop/keys/social_media_analytics/\")\n",
    "\n",
    "youtubeKeyFile = keyFolder / \"youtube.txt\"\n",
    "\n",
    "with open(youtubeKeyFile) as file:\n",
    "    content = file.readlines()\n",
    "\n",
    "youtubeApiKey = content[0].split(':')[1].strip()"
   ]
  },
  {
   "cell_type": "code",
   "execution_count": 10,
   "metadata": {},
   "outputs": [],
   "source": [
    "# -*- coding: utf-8 -*-\n",
    "\n",
    "# Sample Python code for youtube.channels.list\n",
    "# See instructions for running these code samples locally:\n",
    "# https://developers.google.com/explorer-help/guides/code_samples#python\n",
    "\n",
    "import os\n",
    "\n",
    "import google_auth_oauthlib.flow\n",
    "import googleapiclient.discovery\n",
    "import googleapiclient.errors\n",
    "\n",
    "os.environ[\"OAUTHLIB_INSECURE_TRANSPORT\"] = \"1\"\n",
    "\n",
    "api_service_name = \"youtube\"\n",
    "api_version = \"v3\"\n",
    "\n",
    "filePath = \"C:\\\\develop\\\\jupyter-notebooks\\\\social-media-analytics\\\\m2-assignment\\\\q2-channel-statistics.txt\"\n",
    "\n",
    "try:\n",
    "    os.remove(filePath)\n",
    "except:\n",
    "    print(\"no file to remove\")\n",
    "\n",
    "youtube = googleapiclient.discovery.build(api_service_name, api_version, developerKey=youtubeApiKey)\n",
    "\n",
    "def statisticsForChannel(channelName, youtube):\n",
    "\n",
    "    #oxicleanvideos\n",
    "    #clorox\n",
    "    #tidelaundry\n",
    "    request = youtube.channels().list(\n",
    "        part=\"statistics\",\n",
    "        forUsername=channelName\n",
    "    )\n",
    "    response = request.execute()\n",
    "            \n",
    "    f=open(filePath, \"a+\")\n",
    "    f.write('Statistics for ' + channelName + '\\n')\n",
    "    try:\n",
    "        f.write(str(response) + '\\n')\n",
    "    except:\n",
    "        f.write(\"error writing response\\n\")\n",
    "\n",
    "    f.close()\n",
    "    \n",
    "\n",
    "# about 8980 subscribers, 45396961 views, 90 videos\n",
    "statisticsForChannel(\"oxicleanvideos\", youtube)\n",
    "# about 32666 subscribers, 49112794 views, 210 videos\n",
    "statisticsForChannel(\"clorox\", youtube)\n",
    "# about 111750 subscribers, 10039814 views, 99 videos\n",
    "statisticsForChannel(\"tidelaundry\", youtube)\n"
   ]
  },
  {
   "cell_type": "code",
   "execution_count": null,
   "metadata": {},
   "outputs": [],
   "source": []
  }
 ],
 "metadata": {
  "kernelspec": {
   "display_name": "Python 3",
   "language": "python",
   "name": "python3"
  },
  "language_info": {
   "codemirror_mode": {
    "name": "ipython",
    "version": 3
   },
   "file_extension": ".py",
   "mimetype": "text/x-python",
   "name": "python",
   "nbconvert_exporter": "python",
   "pygments_lexer": "ipython3",
   "version": "3.7.3"
  }
 },
 "nbformat": 4,
 "nbformat_minor": 2
}
