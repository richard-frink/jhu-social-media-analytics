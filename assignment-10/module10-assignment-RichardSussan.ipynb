{
 "cells": [
  {
   "cell_type": "code",
   "execution_count": 1,
   "metadata": {
    "scrolled": true
   },
   "outputs": [
    {
     "name": "stdout",
     "output_type": "stream",
     "text": [
      "Collecting package metadata (current_repodata.json): ...working... done\n",
      "Solving environment: ...working... done\n",
      "\n",
      "## Package Plan ##\n",
      "\n",
      "  environment location: D:\\Anaconda3\n",
      "\n",
      "  added / updated specs:\n",
      "    - nltk\n",
      "\n",
      "\n",
      "The following packages will be downloaded:\n",
      "\n",
      "    package                    |            build\n",
      "    ---------------------------|-----------------\n",
      "    conda-4.7.12               |           py37_0         3.0 MB  anaconda\n",
      "    nltk-3.4.4                 |           py37_0         2.1 MB  anaconda\n",
      "    ------------------------------------------------------------\n",
      "                                           Total:         5.1 MB\n",
      "\n",
      "The following packages will be SUPERSEDED by a higher-priority channel:\n",
      "\n",
      "  conda                                         conda-forge --> anaconda\n",
      "  nltk                                            pkgs/main --> anaconda\n",
      "\n",
      "\n",
      "\n",
      "Downloading and Extracting Packages\n",
      "\n",
      "nltk-3.4.4           | 2.1 MB    |            |   0% \n",
      "nltk-3.4.4           | 2.1 MB    |            |   1% \n",
      "nltk-3.4.4           | 2.1 MB    | ########## | 100% \n",
      "\n",
      "conda-4.7.12         | 3.0 MB    |            |   0% \n",
      "conda-4.7.12         | 3.0 MB    | ####8      |  48% \n",
      "conda-4.7.12         | 3.0 MB    | ########## | 100% \n",
      "Preparing transaction: ...working... done\n",
      "Verifying transaction: ...working... done\n",
      "Executing transaction: ...working... done\n"
     ]
    }
   ],
   "source": [
    "import sys\n",
    "!conda install --yes --prefix {sys.prefix} -c anaconda nltk"
   ]
  },
  {
   "cell_type": "code",
   "execution_count": 1,
   "metadata": {},
   "outputs": [],
   "source": [
    "import nltk\n",
    "import os\n",
    "# uncomment to download nltk library\n",
    "#nltk.download()\n",
    "os.environ[\"NLTK_DATA\"] = \"D:\\nltk_data\""
   ]
  },
  {
   "cell_type": "code",
   "execution_count": 1,
   "metadata": {},
   "outputs": [
    {
     "data": {
      "text/html": [
       "<div>\n",
       "<style scoped>\n",
       "    .dataframe tbody tr th:only-of-type {\n",
       "        vertical-align: middle;\n",
       "    }\n",
       "\n",
       "    .dataframe tbody tr th {\n",
       "        vertical-align: top;\n",
       "    }\n",
       "\n",
       "    .dataframe thead th {\n",
       "        text-align: right;\n",
       "    }\n",
       "</style>\n",
       "<table border=\"1\" class=\"dataframe\">\n",
       "  <thead>\n",
       "    <tr style=\"text-align: right;\">\n",
       "      <th></th>\n",
       "      <th>emotion</th>\n",
       "      <th>post</th>\n",
       "    </tr>\n",
       "  </thead>\n",
       "  <tbody>\n",
       "    <tr>\n",
       "      <th>0</th>\n",
       "      <td>4</td>\n",
       "      <td>@stellargirl I loooooooovvvvvveee my Kindle2. ...</td>\n",
       "    </tr>\n",
       "    <tr>\n",
       "      <th>1</th>\n",
       "      <td>4</td>\n",
       "      <td>Reading my kindle2...  Love it... Lee childs i...</td>\n",
       "    </tr>\n",
       "    <tr>\n",
       "      <th>2</th>\n",
       "      <td>4</td>\n",
       "      <td>Ok, first assesment of the #kindle2 ...it fuck...</td>\n",
       "    </tr>\n",
       "    <tr>\n",
       "      <th>3</th>\n",
       "      <td>4</td>\n",
       "      <td>@kenburbary You'll love your Kindle2. I've had...</td>\n",
       "    </tr>\n",
       "    <tr>\n",
       "      <th>4</th>\n",
       "      <td>4</td>\n",
       "      <td>@mikefish  Fair enough. But i have the Kindle2...</td>\n",
       "    </tr>\n",
       "  </tbody>\n",
       "</table>\n",
       "</div>"
      ],
      "text/plain": [
       "   emotion                                               post\n",
       "0        4  @stellargirl I loooooooovvvvvveee my Kindle2. ...\n",
       "1        4  Reading my kindle2...  Love it... Lee childs i...\n",
       "2        4  Ok, first assesment of the #kindle2 ...it fuck...\n",
       "3        4  @kenburbary You'll love your Kindle2. I've had...\n",
       "4        4  @mikefish  Fair enough. But i have the Kindle2..."
      ]
     },
     "execution_count": 1,
     "metadata": {},
     "output_type": "execute_result"
    }
   ],
   "source": [
    "# this section gets the initial data frame from the sentiment140 file\n",
    "\n",
    "import pandas as pd\n",
    "import numpy as np\n",
    "# load the sentiment 140 dataset to pandas\n",
    "\n",
    "sentiment140dataset = \"testdata.manual.2009.06.14.csv\"\n",
    "\n",
    "s140tweets = pd.read_csv(sentiment140dataset)\n",
    "\n",
    "s140tweets.drop(\"id\", axis=1, inplace=True)\n",
    "s140tweets.drop(\"date\", axis=1, inplace=True)\n",
    "s140tweets.drop(\"topic\", axis=1, inplace=True)\n",
    "s140tweets.drop(\"account\", axis=1, inplace=True)\n",
    "\n",
    "s140tweets.head()"
   ]
  },
  {
   "cell_type": "code",
   "execution_count": 32,
   "metadata": {},
   "outputs": [
    {
     "name": "stdout",
     "output_type": "stream",
     "text": [
      "dict_keys(['@stellargirl', 'loooooooovvvvvveee', 'kindle2.', 'not', 'that', 'the', 'cool,', 'but', 'fantastic', 'its', 'own', 'right.', 'reading', 'kindle2...', 'love', 'it...', 'lee', 'childs', 'good', 'read.', 'ok,', 'first', 'assesment', '#kindle2', '...it', 'fucking', 'rocks!!!', '@kenburbary', \"you'll\", 'your', \"i've\", 'had', 'mine', 'for', 'few', 'months', 'and', 'never', 'looked', 'back.', 'new', 'big', 'one', 'huge!', 'need', 'remorse!', '@mikefish', 'fair', 'enough.', 'have', 'kindle2', 'think', \"it's\", 'perfect', '@richardebaker', 'no.', 'too', 'big.', \"i'm\", 'quite', 'happy', 'with', 'fuck', 'this', 'economy.', 'hate', 'aig', 'their', 'non', 'loan', 'given', 'asses.', 'jquery', 'best', 'friend.', 'loves', 'twitter', 'how', 'can', 'you', 'obama?', 'makes', 'jokes', 'about', 'himself.', 'check', 'video', 'out', 'president', 'obama', 'white', 'house', \"correspondents'\", 'dinner', 'http://bit.ly/imxum', '@karoli', 'firmly', 'believe', 'obama/pelosi', 'zero', 'desire', 'civil.', 'charade', 'slogan,', 'they', 'want', 'destroy', 'conservatism', 'correspondents', 'was', 'last', 'night', 'whoopi,', 'barbara', '&amp;', 'sherri', 'went,', 'got', 'standing', 'ovation', 'watchin', 'espn..jus', 'seen', 'nike', 'commerical', 'puppet', 'lebron..sh*t', 'hilarious...lmao!!!', 'dear', 'nike,', 'stop', 'flywire.', 'shit', 'waste', 'science.', 'ugly.', 'love,', '@vincentx24x', '#lebron', 'athlete', 'our', 'generation,', 'all', 'time', '(basketball', 'related)', \"don't\", 'get', 'into', 'inter-sport', 'debates', '__1/2', 'talking', 'guy', 'telling', 'die', 'hard', 'spurs', 'fan.', 'also', 'told', 'hates', 'lebron', 'james.', 'lebron.', 'http://bit.ly/pdhur', '@ludajuice', 'beast,', 'still', 'cheering', 'a..til', 'end.', '@pmillzz', 'boss', '@sketchbug', 'hometown', 'hero', 'me,', 'lol', 'lakers', \"let's\", 'cavs,', 'zydrunas', 'are', 'such', 'awesome', 'duo', '@wordwhizkid', 'beast...', 'nobody', 'nba', 'comes', 'even', 'close.', 'downloading', 'apps', 'iphone!', 'much', 'fun', ':-)', 'there', 'literally', 'app', 'just', 'anything.', 'news,', 'call', 'from', 'visa', 'office,', 'saying', 'everything', 'fine.....what', 'relief!', 'sick', 'scams', 'there!', 'stealing!', 'http://twurl.nl/epkr4b', 'come', 'back', '@biz', '(via', '@fredwilson)', 'montreal', 'long', 'weekend', 'r&amp;r.', 'needed.', 'booz', 'allen', 'hamilton', 'has', 'bad', 'ass', 'homegrown', 'social', 'collaboration', 'platform.', 'way', 'cool!', '#ttiv', '[#mluc09]', 'customer', 'innovation', 'award', 'winner:', 'http://ping.fm/c2hpp', '@sochi2', 'current', 'use', 'nikon', 'd90', 'it,', 'canon', '40d/50d.', 'chose', 'feature.', 'mistake.', 'suggestions', 'filter', '40d', '...', 'some?', 'pls', '@surfit:', 'checked', 'google', 'business-', 'blip', 'shows', 'second', 'entry!', 'huh.', 'ba...', 'http://blip.fm/~6emhv', '@phyreman9', 'always', 'place', 'look.', \"should've\", 'mentioned', 'worked', 'mustang', 'dad,', '@kimblet.', 'played', 'android', 'phone.', 'slide', 'screen', 'scares', 'would', 'break', 'fucker', 'fast.', 'prefer', 'iphone.', 'planning', 'resume', 'military', 'tribunals', 'guantanamo', 'bay...', 'only', 'those', 'trial', 'will', 'execs', 'chrysler', 'debt', 'holders', 'omg', 'bored', 'tattoooos', 'itchy!!', 'help!', 'aha', 'itchy', 'miserable!', '@sekseemess', 'now.', 'maybe', 'later,', 'lol.', '@jessverr', 'nerdy', 'stanford', 'human', 'biology', 'videos', 'miss', 'school.', 'http://bit.ly/13t7nr', '@spinuzzi:', 'been', 'bit', 'crazy,', 'steep', 'learning', 'curve,', 'lyx', 'really', 'docs.', 'anything', 'shorter,', 'insane.', 'listening', '\"p.y.t\"', 'danny', 'gokey', '&lt;3', 'aww,', \"he's\", 'amazing.', 'him', 'going', 'sleep', 'then', 'bike', 'ride:]', 'cant', 'sleep...', 'tooth', 'aching.', 'blah,', 'blah', 'same', 'old', 'old.', 'plans', 'today,', 'guess.', 'glad', 'didnt', 'bay', 'breakers', '1000', 'freaking', 'degrees', 'san', 'francisco', 'wtf', 'breakers.', 'landed', 'today.', 'any', 'suggestions?', '?obama', 'administration', 'must', 'bonuses', 'ponzi', 'schemers', 'http://bit.ly/2cuig', 'started', 'citi', 'deep', 's&amp;^t.', 'gonna', 'survive', 'turmoil', 'next', 'aig?', 'shaunwoo', \"hate'n\", '@yarnthing', 'regret', 'see', 'star', 'trek.', 'awesome!', 'trek', 'esquire.', 'soon', 'dad.', 'annoying', 'trend', 'internets:', 'people', 'picking', 'apart', 'michael', 'lewis', 'malcolm', 'gladwell.', 'wants', 'read', 'that.', 'bill', 'simmons', 'conversation', 'gladwell', 'http://bit.ly/j9o50', 'highly', 'recommend:', 'http://tinyurl.com/howdavidbeatsgoliath', 'blink', 'amazing', 'book', 'tipping', 'point!', 'might', 'man', 'crush', 'omg.', 'commercials', 'alone', 'espn', 'drive', 'nuts.', '@robmalon', 'playing', 'api', 'sounds', 'fun.', 'may', 'take', 'class', 'find', 'friend', 'who', 'like', 'generate', 'results', 'code.', 'curl', 'hello', 'java', '@morind45', 'because', 'slow', 'most', \"client's\", \"aren't\", 'good.', 'yahoo', 'answers', 'butt', 'sometimes', 'scrapbooking', 'nic', '@mashable:', 'five', 'things', 'wolfram', 'alpha', 'does', 'better', '(and', 'vastly', 'different)', 'than', 'http://bit.ly/6nsnr', 'changed', 'default', 'pic', 'basketball', 'cause', 'bball', 'awesome!!!!!', 'owns', 'playoffs', 'ads', 'lebron,', 'kobe,', 'carmelo?', 'http://ow.ly/7uiy', '#adidas', '#billups', '#howard', '#marketing', '#branding', \"'next\", 'time,', \"i'll\", 'myself', \"nike'\", 'blog', 'post:', 'dunk', 'low', 'premium', \"'white\", \"gum'\", 'http://tr.im/lott', '@smartchickpdx:', 'layoffs', 'today', ':-(', 'when', 'fav', 'word', 'it!', 'way,', 'totally', 'inspired', 'freaky', 'commercial:', 'http://snurl.com/icgj9', 'giving', 'weka', 'engine', 'interface,', 'using', 'bird', 'strike', 'data', 'tests,', 'logo', 'given.', 'brand', 'eos', '50d', '15mp', 'dslr', 'camera', '17-85mm', 'lens', '...:', 'web', 'technology', 'thread,', '5..', 'http://u.mavrev.com/5a3t', 'class...', 'supposed', 'needs', 'someone', 'explain', 'lambda', 'calculus', 'him!', 'took', 'graduate', 'field', 'exam', 'computer', 'science', 'nothing', 'feel', 'more', 'idiot', 'calculus.', 'shout', 'outs', 'east', 'palo', 'alto', 'being', 'buildin', 'karizmakaze', '50cal', 'gta!', 'thanks', 'profits', 'doom', 'universal', 'hempz', 'cracka......', '@legalgeekery', 'yeahhhhhhhhh,', \"wouldn't\", 'lived', 'could', 'avoided', 'it.', 'guess', 'summer.', '@accannis', '@edog1203', 'great', 'course.', 'making', 'available', 'public!', 'helpful', 'informative', 'starting', 'off!', 'nvidia', 'names', \"stanford's\", 'dally', 'chief', 'scientist,', 'research', 'http://bit.ly/fvvg9', 'harvard', 'versus', 'wins?', 'http://bit.ly/mcoco', 'work', 'til', '6pm...', 'lets', 'lakers!!!', 'damn', 'north', 'korea.', 'http://bit.ly/ktmeq', 'ahead', 'blow', 'korea', 'off', 'map', 'already?', 'korea,', 'please', 'cease', 'douchebaggery.', 'china', \"doesn't\", 'anymore.', 'http://bit.ly/nehsl', 'why', 'hell', 'pelosi', 'freakin', 'china?', 'whose', 'dime?', 'burning', 'cash', '$$$', 'gm?', 'financial', 'tsunami.', 'where', '\"bailout\"', 'means', 'taking', 'handout!', 'insects', 'infected', 'spinach', 'plant', 'wish', 'catch', 'every', 'mosquito', 'world', 'burn', 'slowly.they', 'bitin', 'outta', '2day.mosquitos', 'assholes', 'church,', 'insects.', 'mcdonalds', 'goddam', 'eggs', 'make', 'sick.', 'yeah', 'laker', 'date', 'lakers.', 'update?', 'well', 'true', 'suck', 'omgg', 'ohhdee', 'wonder', 'open', 'history', 'studying', 'ugh', 'revision,', 'boring!', 'unprepared', 'tomorrow', 'looking', 'good...', 'higher', 'physics', 'tommorow,', 'lookin', 'forward', 'bank', 'holiday,', 'yet', 'season', 'sucks:(', 'cheney', 'bush', 'real', 'culprits', 'http://fwix.com/article/939496', 'life?s', 'bitch?', 'dick', 'cheney.', '#p2', '#bipart', '#tlot', '#tcot', '#hhrs', '#gop', '#dnc', 'http://is.gd/djyq', \"cheney's\", 'dishonest', 'speech', 'torture,', 'terror,', 'obama.', '-fred', 'kaplan', 'slate.', 'http://is.gd/dihg', '\"the', 'republican', 'party', 'bunch', 'anti-abortion', 'zealots', \"couldn't\", 'draw', 'flies', 'dump.\"', 'neal', 'boortz', '(just', 'now,', 'radio)', \"twitter's\", 'connections', 'broken?', 'some', 'tweets', \"didn't\", 'twitter...', 'srsly', 'stupid', 'timeout', 'thing,', 'soooo', 'annoying!!!!!', '@psychemedia', 'liked', \"@kswedberg's\", '\"learning', 'jquery\"', 'book.', 'http://bit.ly/pg0lt', 'worth', 'look', '1.6', 'review', 'http://cfbloggers.org/?c=30631', 'very', 'interesting', 'adobe', 'goodby,', 'silverstein', 'partners', 'youtube', 'cs4:', 'sens', 'propre', 'http://bit.ly/vprpt', 'goodby', 'agency', 'site!', 'http://www.goodbysilverstein.com/', 'great!', '@designplay', \"silverstein's\", 'site:', 'enjoy', '*nice', 'find!*', 'ever', 'psyop', 'hp!', 'http://bit.ly/g2ru8', 'play', 'after', 'effects', 'now!', 'top', 'ten', 'watched', 'viral-video', 'chart.', '#mostvaluablepuppets', 'campaign', 'wieden', 'kennedy', 'http://bit.ly/nr1n9', 'zomg!!!', 'g2!!!!!!!', 'lots', 'buzz', 'io2009', 'lucky', 'free', 'g2!!', 'http://is.gd/hyzl', 'i/o!!!', 'retiring', 'start', 'developer', 'woot', '#googleio', 'gwt', 'fireside', 'chat', '@googleio', 'philip', 'googleio', 'cannot', 'wait', 'thursday', 'vs.', '???', 'there,', 'anyone', 'source', 'advice', 'viral', 'marketing?...', 'http://link.gs/ytz8', 'judd', 'apatow', 'creates', 'fake', 'sitcom', 'nbc.com', 'market', 'his', 'movie...', 'marketing', 'best.', 'http://is.gd/k0yk', \"here's\", 'case', 'study', 'add', 'over', '10,000', 'list', 'http://snipr.com/i50oz', 'fail.', 'acia', 'pills', 'oughta', 'shut', 'down', 'hacking', \"people's\", \"messenger's.\", '5-6', 'msgs', 'day!', 'arrrgh!', 'watching', 'museum', 'lmao', 'loved', 'museum!!!', 'movie', 'family', 'boy', 'three', 'year', 'movies', 'fuin', 'movies.', 'went', 'rachel.', 'saw', 'movie...it', 'was...okay...lol', '7\\\\10', 'tall', '@shannyoday', 'whenever', 'want...it', 'looks', 'soooooo', 'museum.', 'getting', 'museum,', 'wolverine', 'junk', 'food', 'monday!', 'night..', 'pretty', 'crazy', 'movie..', 'cast', 'robin', 'williams', 'forever!', 'museum:', 'battle', 'swithsonian', 'okay.', 'typical', '[kids]', 'ben', 'stiller', 'movie.', 'katie', '(she', 'picked', 'it)', 'tonite', 'instead', 'up.', 'well.', 'says', 'expects', 'announcment', 'sale', 'hummer', 'reuters:', 'wdsugm', 'http://bit.ly/4e1fv', 'unfortunate', 'stimulus', 'plan', 'put', 'twice', 'help', 'american', 'led', 'inevitable', 'tell', 'again', 'gm??', 'should', 'programs', 'support', 'unemployed.', '@jdreiss', 'yes', 'dies', 'boo', 'hahaha', 'warner', 'cable', '3rd', 'since', 'memorial', 'day', 'bummer!', 'rather', 'pay', 'reasonable', 'yearly', 'taxes', '\"free\"', 'fast', 'internet,', 'gouged', 'connection.', 'nooooooo', 'dvr', 'died', 'half', 'through', 'presser.', 'f*ck', 'cable!!!', 'f*cking', 'balls!!!', '$700', 'channels', 'hardly', 'in.', 'bullshit!!', 'worse', 'service', 'ever.', 'them', 'devil.', 'worst', 'possible', 'internet', 'out.', 'warner!', 'picks', 'work.', 'mtv.com', 'watch', 'hills.', 'wtfffff.', 'vios.', 'fricken', 'mets', 'game', 'w/o', 'buffering.', 'porn.', 'ahh...got', 'rid', 'now', 'nap', 'while', 'roomies', 'cook', 'me.', 'end', 'monday', \"warner's\", 'line', 'crap.', 'fucked', 'cable.', 'know', 'modems', 'explode.', 'susan', 'boyle', 'sucks', 'too!', 'pulls', 'plug', \"'the\", 'girlfriend', \"experience'\", '(www.tinyurl.com/m595fk)', 'slogan:', 'calling', '2pm', 'happens.', 'rocawear', 'heads', 'china,', 'building', '300', 'stores', 'http://tinyurl.com/nofet3', 'climate', 'focus', 'turns', 'beijing:', 'united', 'nations,', 'european', 'governments', 'called', 'co-o..', 'http://tinyurl.com/lto92n', 'myfoxdc', 'barrie', 'students', 'trip', 'china:', 'silver', 'spring', 'high', \"school's\", 'en..', 'http://tinyurl.com/nlhqba', 'aerospace', 'giants', 'develop', 'tianjin', 'binhai', 'area,', '22.9', 'yuan', 'invested', 'http://bit.ly/mmidv', 'http://xi.gs/04fo', 'ceo:', 'continue', 'key', 'partner', '@latimesautos', 'buy', 'car?', 'http://bit.ly/nrzlu', 'recovering', 'surgery..wishing', '@julesrenner', 'here', 'wrist', 'hurts.', 'at.', 'dr/dentist/scary', 'places.', 'eagle', 'eye.', 'join,', 'txt!', 'dentist', 'tomorrow.', 'brush', 'morning.', 'hair', 'nice', 'before', 'cut.', 'why?', 'lied!', \"won't\", 'discomort!', 'prob', 'pain', 'pills\"', 'twippin', 'hurt!!', 'many', 'take!!', '@kirstiealley', \"she's\", 'expensive...=(', 'pet', 'http://www.funnyville.com/fv/pictures/dogdentures.shtml', 'studing', 'math', 'wrong...', 'wrong', 'later.:|', 'son', 'cars', 'online.', 'car', 'shopping.', 'dentist!', 'price', 'sell?', 'ncaa', 'baseball', 'super', 'regional', 'rams', 'club', 'http://bit.ly/ro7nx', 'major', 'league', '2k9.', 'http://raptr.com/h3llgwar', 'cardinals', 'advance', 'regionals.', 'face', 'cs-fullerton', 'friday.', 'sony', 'coupon', 'code..', 'expires', 'soon..', 'http://www.coupondork.com/r/1796', 'waiting', 'safeway.', 'luke', 'stopped', 'walking', 'safeway', 'asked', 'empty', 'pockets', 'lift', 'shirts.', 'jacked', 'that?', 'did', 'realize', 'gym', 'above', 'safeway!', '@xphile1908', 'words', 'you:', '\"safeway', 'dot', 'com\"', 'rock', 'roll', 'tonight', 'bout', 'hit', 'gotta', 'eat', \"jake's\", 'found', 'staples.', 'super-marketing', 'via', 'mobile', 'coupons', 'http://bit.ly/onh7w', 'bathroom', 'smells', 'ass!', 'elkhorn,', 'move', \"they're\", 'dead!', 'normal', 'weight', 'there)', 'eating', 'http://bit.ly/zet8o', 'movies....', 'sashimi', 'home', 'made', 'yema', 'cake', 'dwight', \"howard's\", 'vitamin', 'water', 'commercial...', 'adidas.', 'factory', 'banana', 'republic', 'outlet!', 'http://myloc.me/2zic', 'iphone', 'radio', 'tagging', 'recently-released', 'itunes', 'version', '8.2', 'suggests', 'voiceover', 'functional..', 'http://tinyurl.com/oq5ctc', 'lovin', 'already', \"that's\", 'running', 'spot', 'bedroom', 'launched!', 'http://imgsearch.net', '#imgsearch', '#ajax', '#jquery', '#webapp', '@matthewcyan', 'finally', 'around', 'bio', 'collapse.', 'yay', 'animations.', '@jquery:', 'ultimate', 'http://jquerylist.com/', 'extracted', 'open-sourced', 'plugin', 'stormweight', 'highlight', 'text', 'regular', 'expression:', 'http://bit.ly/ybjkb', '@anna_debenham', 'what', 'php', 'hack?', 'cheat', 'sheet', 'http://www.javascripttoolbox.com/jquery/cheatsheet/', 'beginning', 'javascript', 'css', 'development', '#javascript', '#css', 'http://bit.ly/to3e5', '@pdubyad', 'right!!!', \"we'll\", 'there!!', 'expectations,', 'warren', 'buffet', 'style.', '@blknprecious1:', '@dbroos', '\"someone\\'s', 'sitting', 'shade', 'planted', 'tree', 'ago.\"-', 'economy', 'http://ping.fm/lau0p', 'became', '(for', 'time)', 'richest', 'states,', 'working', 'investing', 'idea', 'which', 'lead', 'fortune', 'according', 'create', 'school,', 'notre', 'dame', 'receivers', 'rating', '*sweet*', 'all-star', 'classic', 'tuesday', 'features', 'talent:', \"chattanooga's\", 'school', 'host..', 'http://bit.ly/qltja', '@blondebroad', 'definitely', 'under', 'warranty', 'experience', 'amazon', 'kindle', 'contact', 'look,', '!amazon', 'dx,', 'here:', 'http://short.to/87ub', 'electronic', 'reader', 'period,', 'ship', 'road', 'runner', 'absolutely', 'blows.', 'having', 'other', 'high-speed', 'net', 'options.', 'ready', 'nuclear.', 'phone', 'reps', 'dumber', 'nails!!!!!', 'ugh!', 'mins', 'ago', 'wtf!', '@siratomofbones', 'tried', \"wasn't\", 'recorded', \"f'ed\", 'install', 'saturday', 'another', 'week', 'internet!', '&amp;$*ehfa^v9fhg[*#', 'fml.', 'wth..i', 'loooong', 'before,', 'ugh.', 'impatiently', 'awaiting', 'arrival', 'guy.', 'inside', 'afternoon', 'accosts', 'roger', 'federer', 'during', 'french', 'http://ff.im/3hcpt', 'naive', 'bayes', 'classification.', 'frustrating...', 'university', 'tour.', 'college.', 'decided', 'kids', 'there.', 'investigation', 'pending', 'death', 'prof', 'mentor', 'rajeev', 'motwani', 'http://bit.ly/lwour', 'tip', '@techmeme', 'bed.', 'successful', 'weekend.', 'stanford,', 'come.', '@karrisfoxy', \"you're\", 'harassed', 'calls', 'warranty,', 'changing', 'number', 'fix', 'number.', '#d-bags', 'blocked', 'blood', 'services', 'voice.', 'guys.', '#at&amp;t', 'complete', '@broskiii', 'snap', 'at&amp;t', '@mbjthegreat', 'dont', 'service..they', 'signal', 'say', 'cut', 'small', 'talk:', \"at&amp;t's\", 'f__k', 'you,', 'give', 'money.', '(apologies', 'bob', 'geldof.)', 'pissed', 'mid-contract', 'upgrade', \"(it's\", '$200', 'more)', '$499', 'something', 'thought', '$299', 'safari', 'shitty', 'tethering.', '@ims', 'up?', '@springsingfiend', '@dvyers', '@sethdaggett', '@jlshack', 'dropped', 'ball', \"isn't\", 'supporting', 'crap', '3.0...', 'fail', '#att', 'sucks!!!', '@mmbarnhill', 'yay,', 'phone!', 'still,', 'at&amp;t.', 'wave', 'sandbox', 'account', 'request', 'http://bit.ly/2nylc', 'talk', 'cheap:', 'bing', 'that,', 'i?ll', 'stick', 'google.', 'http://bit.ly/xc3c8', '@defsounds', 'point', 'deleting', 'summize', 'searches?', 'twitter,', 'bye', '@mattcutts', 'profiles', 'showing', 'anymore', '@arunbasillal', 'translator', 'mate', 'kindle2!', 'came', 'loving', 'named', 'her', 'kendra', 'were', 'wondering.', '\"cookbook\"', 'tool', 'cuz', 'tells', 'tricks!', 'gift', 'evr!', 'scandal', 'http://bit.ly/b82px', 'aprs', 'yet?', 'pros', 'following', 'http://is.gd/smbz', 'comedian!', 'cnn', 'funny', 'jokes.', 'barack', 'side', '&gt;&gt;', 'http://tr.im/l0gy', 'speech..', \"obama's\", 'night!', '\"bill', 'clinton', 'win?\"', 'http://tinyurl.com/pcyxj7', 'popular', 'u.s.', 'among', 'arabs:', 'survey:', 'popularity', 'leading', 'arab', 'countries', 'http://tinyurl.com/prlvqu', 'jokes!!', 'haha', 'night...', 'mr.', 'james', 'accident', 'guess..just', 'heard', 'evening', 'news...wow', 'it..will', 'http://twtad.com/69750', 'years', 'yea', 'melo', 'finals', '@khalid0456', 'no,', '@the_real_usher', 'cool.', 'personality...he', 'character.', 'highlights.', 'niggas', '@lou911', 'murdering', 'shit.', '@uscsports21', 'monsta', '24.', 'smh', \"ain't\", 'ready.', '@cthagod', 'done', 'probably', 'greater', 'kobe.', 'said', 'kobe', 'alot', \"'good'\", 'players.', 'vote', '@asherroth', 'cup', '2010', 'access??', 'damn,', 'look!', 'bought', 'tickets', 'fifa', 'south', 'africa.', 'http://bit.ly/9gezi', 'share:', 'disruption...fred', \"wilson's\", 'slides', 'http://bit.ly/bo8pg', '2hr', 'meeting', 'indian', 'tamasha', 'truly', 'unfold', '16,', 'result', 'general', 'election.', '@crlane', 'pictures', \"haven't\", 'person.', 'everyday.', '@criticalpath', 'continual', 'program', 'http://bit.ly/1zlff', 'ok..', 'nothing..', 'thinking', '@faithbabywear', 'ooooh,', 'model', 'getting???', 'times', 'india:', \"india's\", 'http://bit.ly/p7u1h', 'http://is.gd/aruj', 'search', '@ambcharlesfield', 'skin', 'lawnmowing.', 'back!!', 'charity', 'fashion', 'show', 'http://cli.gs/nenuah', 'university?s', 'facebook', 'profile', 'official', 'pages', 'http://tinyurl.com/p5b3fl', 'sooo', 'dissapointed', 'sent', 'home...', '...danny', 'milrockee!!', '@passionmodel', \"'american\", \"idol'\", 'fashion:', 'adam', 'lambert', 'tones', 'down,', 'cute', 'http://cli.gs/7jwshv', '@dannygokey', 'gokey!!', '@justindavey:', '@tweetmeme', 'onstar', 'instantly', 'sends', 'location', 'coordinates', '911', 'gps', 'obsessed', 'http://bit.ly/16szl1', 'tired.', 'night.', 'boarding', 'plane', 'hour;', 'flight.', 'blech.', 'bonjour', 'francisco.', 'hurts', 'francisco,', 'http://loopt.us/4v88bw.t', 'heading', 'girl', 'hours', 'mmmmmfamily', 'wonderful!', 'f***', 'big,', 'satisfying.', \"can't\", 'wait,', 'tonight!!', 'everyone', 'said!!', 'outliers', 'recommend', \"gladwell's\", \"point.'\", 'audiobook', 'genius', 'tricking', 'realizing', '@sportsguy33', 'hey', 'offense', 'pretenious,', 'cunt', 'brings', 'down.', '@clashmore:', 'http://bit.ly/soyv7', 'article', 'seriously', 'underestimated', 'meet', 'dude.', 'comcast', 'right', 'phone....ughh', 'sucks.', 'deal', 'rank', 'days', 'life.', '@dommm', 'again??', 'api?...', 'http://bit.ly/4vbhh', 'curses', 'limit', 'dave', 'winer', 'screams', 'lack', 'api,', 'limitations', 'access', 'throttles!', 'testing', 'arg.', 'crazy.', 'api.', 'remote', 'update', 'site', 'wolfram/alpha.', 'seem', 'quaint.', 'http://www72.wolframalpha.com/', '#wolfram', 'sucks!', 'researchers', 'information', 'provided', 'less', '#google', '#wikipedia,', 'useless!', 'factory!!!', 'muppet', 'cute.', 'live', 'together', 'again?', 'zoom', 'soldier', '(iii)', 'black', 'teal', 'http://bit.ly/rouus', 'trainer', 'http://bit.ly/394bp', '@fraggle312', \"weren't\", 'owned', '@tonyhawk', 'http://twitpic.com/5c7uj', 'awesome!!!', 'seeing', 'friday', 'shoreline', 'amphitheatre.', 'nin', 'before.', 'wait.', 'arhh,', 'bug.', 'spent', 'almost', 'two', 'crappy', '@mitzs', 'bud', '50d,', 'although', \"i'd\", 'mkii', '@jonduenas', '@robynlyn', 'office.', \"50d...it's\", 'beautiful!!', 'prepare', 'photography!', 'toy.', '50d.', '#jobs', '#sittercity', 'care', 'child', '(east', 'alto,', 'ca)', 'http://tinyurl.com/qwrr2m', 'moving', 'alto!', 'atebits', 'finished', 'session.', 'appreciate', 'rock!', '@jktweet', 'hi!', 'advice.', 'singapore', '(yes', 'around)', '#mba', 'admissions', 'tips', 'gsb', 'deadlines', 'essay', 'topics', '2009-2010', 'http://tinyurl.com/pet4fd', 'ethics', 'nonprofits', 'http://bit.ly/qsxrp', '#stanford', '#socialentrepreneurship', 'go!!!!', 'kick', 'nuggets', 'tonight?', 'oooooooh...', 'troubleeeee!', 'http://bit.ly/19epah', 'wat', 'heck', 'doing!!??!!', 'conducted', 'powerful', 'nuclear', 'tests!', 'follow', 'link:', 'http://www.msnbc.msn.com/id/30921379', 'obama...', 'friggin', 'korea...', 'realized', 'monkeys', 'obama.biden,pelosi', 'sarah', 'palin', '2012', '@foxnews', 'stay', 'nancy', 'gave', 'commencement', 'heard.', 'bitter', 'amount', 'these', 'bitten', 'grr..', 'prettiest', 'pink', 'katydids:', 'http://bit.ly/2upw2p', 'barraged', 'horde', 'hungry', 'kitchen', 'light.', 'scary.', 'dinner.', 'goooood.', 'mac', 'meal.', 'ahh', 'ima', 'hubby', 'sum', 'lunch', 'mcdonalds.', 'chicken', 'nuggetssss!', 'yummmmmy.', 'lot', 'mean', 'lot.', '@helloleonie:', 'prayers', 'left,', 'review.', 'exam.', 'colin', 'powell', 'rocked', 'yesterday', 'cbs.', 'home.powell', 'honor', 'served', 'country', 'proudly', 'obviously', 'siding', 'http://bit.ly/19j2d', 'hilarious!!!', 'http://bit.ly/bccwt', '@mashable', 'thank', 'including', '100', 'authors!', '(&amp;', ':-d)', 'http://bit.ly/eorfv', '1.3', 'http://cfbloggers.org/?c=30629', '@shrop:', 'reference', 'coda!', 'http://www.macpeeps.com/coda/', '#webdesign', 'sending', 'e-mails', 'contacts...does', \"silverstein...i'd\", 'speak', 'cs4', 'commercial', 'silverstein:', 'http://bit.ly/1aikhf', 'site...', 'wow', 'i/o', 'conference', \"g2's\", 'month', 'unlimited', '@vkerkez', 'dood', 'conference.', 'g2!', '@orli', 'btw,', 'huge', 'improvement', 'html', 'demos!', 'stuff', 'come!', 'yes,', 'excited.', 'http://htmlfive.appspot.com', '#io2009', 'http://twitpic.com/62shi', 'yay!', 'place!', 'google!', 'o3d', 'bringing', 'graphics', 'browser.', 'tbh.', 'funfun.', '\"funny', 'people\"', 'http://www.nbc.com/yo-teach/', 'programme', 'life', 'hitler,', 'enhancing', 'geekiness', 'history.', 'sheer', 'desperation.', 'funding', 'movies?', 'furkin', 'giggling.', '@pambeeslyjenna', 'jenna,', 'surprised', 'members', 'office...', 'ryan', 'stacy', 'dum', 'dum,', 'gum', 'gum!', \"'star\", \"trek'\", \"'night\", \"museum.'\", 'amazing,', \"museum'\", 'was;', 'eh.', 'stinkin', 'cute!', 'so,', 'part', 'favorite', 'restaurant.', '\"night', '2\".', 'up!', 'sold', 'out,', 'shame', 'gm.', 'forced', 'thinks', 'think?', 'noticed,', 'situation,', 'nor', 'aig,', 'lehman,', 'obama:', 'nationalization', 'short-term', '(ap)', 'http://tinyurl.com/md347r', '@pittstock', '$gm', 'riddance.', 'sad', 'though.', 'government', 'motors', 'vehicle:', 'until', 'recently,', 'drove', 'cars.', '1988,', 'http://tinyurl.com/lulsw8', 'coca-cola', 'board', 'heck!', '#ala', '#rantsandraves', 'thing', '(concord', 'pleasant', 'hill', 'martinez):', 'uaw.', 'http://buzzup.com/4ueb', 'fish,', 'feed', 'day.', 'teach', 'gm,', 'f**k', 'hear', 'angry', 'get.', 'billions', 'wasted,', 'bullshit.', '40k', 'employees', 'the..', '@quanttrader', 'far', 'quality', 'compared', 'honda', 'day...bankrupt', 'upset', 'whole', 'thing.', 'screwed', 'whoever', 'repeatedly', 'raped', 'rhino', 'understand', 'consequences', 'putting', 'svcs', 'ceo', 'hints', 'online', 'fees', 'magazines', 'mountain', 'view,united', 'states.', 'views', '16209', 'http://bit.ly/udfch', '#wftb', 'joining', 'late.', 'connection', '(boo', 'warner)', 'cox', 'warner?', 'cheaper', 'gets', 'dslreports.', 'expensive', 'furious', 'promotions!', 'chick-fil-a', 'boys.', 'internets', 'time-warner', 'more?', 'causin', 'problems', 'ummm,', 'problems?', 'guys', 'this?', 'ass?', 'u-verse', 'apartment.', 'http://bit.ly/s594j', 'upside', 'warner:', 'unhelpful', 'operators', 'superslow', 'on-site', 'service.', 'crap,', 'upside.', '@sportsguy33:', '\"time', 'warner,', 'cable.\"', 'confirmed:', 'fault,', \"facebook's,\", 'minutes', 'load.', 'tempted', 'switch', 'verizon', 'epic', 'lawson', 'head', 'newedge', 'hong', 'kong', 'http://bit.ly/xlqsd', '#business', '#china', 'weird', 'piano', 'guitar', 'china!', 'http://u2s.me/72i8', 'send', 'gm/chevy', 'photos', 'http://tinyurl.com/luzkpq', 'know.', '@caseymercier:', '1st', 'hurricane', 'season.', 'scarey', 'govt', 'files', 'bankruptcy,', 'sign...', 'yankees', 'won', 'lost.', 'appt', 'actually', 'enjoyable.', 'effing', 'dentist.', '@stevemoakler', 'morning', 'conversation!', 'dentist..', '!!!', 'dentist....who', 'invented', 'anyways?', \"dentist's\", 'office', 'cold', 'david', 'http://bit.ly/47aw2', 'appointment', '[in', 'years]', 'wednesday', 'possibly.', 'tom', \"shanahan's\", 'latest', 'column', 'sdsu', 'appearance:', 'http://ow.ly/axhu', 'baseballamerica.com:', 'blog:', 'america', 'prospects', 'http://bit.ly/ett8a', 'portland', 'city', 'politics', 'undo', 'park', 'http://tinyurl.com/lpjquj', '@watersisweb:', \"merced's\", 'bottled', 'safeway,', 'resold', 'profit:', 'wells', 'drying', 'across', 'county', 'http://tinyurl.com/mb573s', 'broccoli', 'depressed', '@ronjon', 'applied', 'safeway!(:', 'yeeeee!', 'nightmare', 'bumming.', 'dad', 'select', 'green', 'tea', 'icecream!', 'cartons,', '&gt;_&lt;', 'marvin,', 'janelle,', 'auntie', 'lhu', 'offering', 'phillies', 'driving', 'cadillac', 'cali,', 'win', '5-3', 'http://tinyurl.com/nzcjqa', 'saved', 'money', 'opting', 'grocery', 'store', 'stocking', 'hotel', 'room', 'fridge', 'town.', 'lounging', 'around,', 'taco', 'bell', 'ncis', 'tonight.', 'staying', 'awake.', 'breakfast', 'eating....', 'healthy', 'resultsby', 'fitness', 'http://bit.ly/62gfn', 'boyfriend,', 'quesadilla', 'meat,', 'chips,', 'risotto.', 'pair', 'shoes.', 'pics', 'later', 'blazer', '\"acg\"', 'custom', 'brad', 'douglas', 'http://timesurl.at/45a448', 'rocks.', 'grateful', 'division', 'beyond!', '@whitstyles', '@muchasmuertes', 'air', 'yeezy', 'khaki/pink', 'colorway', 'release', 'http://shar.es/bjfn', '@evelynbyrne', 'addictive.', '@erickoston', 'awful', \"nike's\", 'private', \"jets....i'm\", 'sayin....', 'training', '(beta)', 'interesting.', 'argghhhh', 'appear', 'devsnippets', 'tools', 'components', 'web...', 'http://inblogs.org/go/hfuqt', 'ajax,jquery', ',css', ',javascript', 'more...', '(many', 'examples)', 'http://ajaxian.com/', 'drop', 'pretenses,', 'forever', 'jquery,', 'marry', 'sorry', 'ladies,', 'nerd', 'jquery.spokenfor.js', 'cold..', \"google's\", 'chart//visualization', '\"wrapper\"', 'api...', 'http://tinyurl.com/mq52bq', 'drinking', 'delirium', 'tremens.', 'selectors', 'http://codylindley.com/jqueryselectors/', 'implement', 'news', 'ticker', 'lines', 'code', 'http://bit.ly/cznfj', \"what's\", 'doing?', 'buffett', 'kicks', 'boots:', 'posted', 'by:alex', 'crippe..', 'http://bit.ly/auizo', 'investors:', 'buffet.', 'oldie,', 'goodie.', 'http://tinyurl.com/oqxgga', 'braindead.', \"buffet's\", 'name', 'save', 'soul', 'book,', 'python', 'years...great', 'nelson', \"mandela's\", 'mean,', 'to.', 'closer', 'dan,', 'without', 'tivo.', 'years,', 'time/warner', 'http://www.davehitt.com/march03/twdvr.html', 'sports', 'writers', 'idiots', 'tennis.', 'tennis', 'york', 'natural.', 'bloomingdale', 'ads.', 'stacks', 'books', 'loo.', \"today's\", 'keynote', 'rocked,', 'announcement,', 'little', 'more.', '@sheridanmarfil', 'obsession', 'cell', 'phones,', 'slave', '@freitasm', 'see.', '900mhz', 'wcdma?', '@plip', 'tethering', 'phil?', 'in?', 'fuzzball', 'http://fuzz-ball.com/twitter', 'dislike', 'indeed,', '@danielpunkass', 'invite!', 'extra', 'excited!', 'now...', 'enough!', '#wave', 'gone', 'wwdc', 'perhaps?', 'hope', 'buys', 'missed', 'insight-filled', 'column:', 'smart', 'closely', 'impressed', 'http://bit.ly/i0pey', '@wroush', '@sklososky', 'much!!!', '...from', '*very*', 'winners', 'surprised,', 'fabulous.', 'you!', 'best,', 'kathleen', 'kinda', 'apple', 'point:', '3gs.', 'recorder', 'app.', 'please??', 'http://bit.ly/dzm1t', '@cwong08', 'prs-500).', 'physical', 'device', 'feels', 'font', 'nice.', 'snappy', 'enuf.', 'klunky.', 'seems', 'ereader,', 'one?', 'addiction.', 'pointing', '@annamartin123.', 'hahaha.', '@ruby_gem', 'primary', 'debit', 'card', 'electron.', 'platinum', 'dearest', '@google,', 'rich', 'bastards!', 'screw', 'me?', 'bobby', 'flay', 'gut', 'fieri', 'network', 'excited', 'music', 'fest!', '2moro', 'shoreline.', 'drink.', 'festival', 'mmm...katz', 'pastrami', 'flay.', 'please.', 'day,', 'ate', 'mesa', 'grill', 'met', 'fun,', 'except', 'completely', 'lost', 'voice', 'fighting', 'latex.', 'again...', '@iheartseverus', 'die!!!!!!', 'latex', 'devil', 'hours.', 'inkscape', 'crashing,', 'normally', 'solid', 'rock.', 'complaining', 'slightest', 'track', 'iran', 'media:', 'http://bit.ly/2boqu', \"shit's\", 'hitting', 'fan', 'iran...craziness', 'indeed', '#iranelection', 'already.', 'implode.', 'disaster.', '@annagoss', 'happy.', '@sebulous', '@goldpanda', 'great.', 'whoop.', 'stock', 'buzz:', '$aapl', '$es_f', '$spy', '$spx', '$palm', '(updated:', '12:00', 'pm)', 'test', 'burger', 'receipes', 'try.', 'bobby.', '@johncmayer', 'you?', 'lam', 'flay...', 'favorite.', '@terrysimpson:', '@bflay', 'phoenix.', 'peppers', 'here!', 'created', 'file', 'scratch.', '(see', '@amandabittner', 'waster)', 'linux', 'nicer', 'windows...', 'wysiwyg', 'editor!', 'lot,', 'typeset', 'mathematics', 'hideous.', 'ask', 'programming:', 'indesign?:', 'submitted', 'calcio1', '[link]', 'comment]', 'http://tinyurl.com/myfmf7', 'note,', 'word.', 'pages.', 'texn3rds', 'kill', 'ahhh...', '*real*', 'editing', 'environment.', 'trouble', 'iran,', 'hmm.', 'iran.', 'away.', '#flockofseagullsweregeopoliticallycorrect', 'coming', 'iran...', 'terrifying', 'incredibly', 'sad...'])\n"
     ]
    }
   ],
   "source": [
    "# this section gets the data prepared to be put through the classifier\n",
    "\n",
    "# this gives the (post,emotion) tuple\n",
    "def translate_dataframe_to_post_format(frame):\n",
    "    posts = []\n",
    "    for index, row in frame.iterrows():\n",
    "        words = row['post']\n",
    "        post = [e.lower() for e in words.split() if len(e) >= 3]\n",
    "        posts.append((post, row['emotion']))\n",
    "    return posts\n",
    "\n",
    "def get_words_in_tweets(posts):\n",
    "    all_words = []\n",
    "    for (words, sentiment) in posts:\n",
    "      all_words.extend(words)\n",
    "    return all_words\n",
    "\n",
    "def get_word_features(wordlist):\n",
    "    wordlist = nltk.FreqDist(wordlist)\n",
    "    word_features = wordlist.keys()\n",
    "    return word_features\n",
    "\n",
    "posts = translate_dataframe_to_post_format(s140tweets)\n",
    "\n",
    "words = get_words_in_tweets(posts)\n",
    "word_features = get_word_features(words)\n",
    "\n",
    "print(word_features)"
   ]
  },
  {
   "cell_type": "code",
   "execution_count": 38,
   "metadata": {},
   "outputs": [],
   "source": [
    "# this section builds the classifier\n",
    "\n",
    "def extract_features(document):\n",
    "    document_words = set(document)\n",
    "    features = {}\n",
    "    for word in word_features:\n",
    "        features['contains(%s)' % word] = (word in document_words)\n",
    "    return features\n",
    "\n",
    "training_set = nltk.classify.apply_features(extract_features, posts)\n",
    "\n",
    "classifier = nltk.NaiveBayesClassifier.train(training_set)"
   ]
  },
  {
   "cell_type": "code",
   "execution_count": 39,
   "metadata": {},
   "outputs": [
    {
     "name": "stdout",
     "output_type": "stream",
     "text": [
      "Most Informative Features\n",
      "          contains(hate) = True                0 : 4      =     10.6 : 1.0\n",
      "        contains(jquery) = True                2 : 0      =     10.6 : 1.0\n",
      "          contains(time) = True                0 : 4      =      9.8 : 1.0\n",
      "           contains(not) = True                0 : 2      =      9.2 : 1.0\n",
      "          contains(love) = True                4 : 0      =      8.8 : 1.0\n",
      "        contains(warner) = True                0 : 2      =      7.7 : 1.0\n",
      "        contains(lebron) = True                4 : 2      =      6.4 : 1.0\n",
      "         contains(great) = True                4 : 2      =      6.4 : 1.0\n",
      "          contains(good) = True                4 : 2      =      5.7 : 1.0\n",
      "           contains(his) = True                4 : 0      =      5.5 : 1.0\n",
      "           contains(are) = True                0 : 2      =      5.5 : 1.0\n",
      "           contains(one) = True                4 : 0      =      4.9 : 1.0\n",
      "           contains(san) = True                2 : 4      =      4.8 : 1.0\n",
      "       contains(safeway) = True                2 : 4      =      4.8 : 1.0\n",
      "           contains(why) = True                0 : 4      =      4.5 : 1.0\n",
      "         contains(&amp;) = True                4 : 2      =      4.3 : 1.0\n",
      "        contains(museum) = True                2 : 0      =      4.3 : 1.0\n",
      "           contains(see) = True                2 : 0      =      4.3 : 1.0\n",
      "          contains(they) = True                0 : 4      =      4.3 : 1.0\n",
      "         contains(night) = True                4 : 0      =      4.3 : 1.0\n",
      "       contains(kindle2) = True                4 : 0      =      4.2 : 1.0\n",
      "          contains(very) = True                4 : 0      =      4.2 : 1.0\n",
      "         contains(still) = True                0 : 2      =      3.9 : 1.0\n",
      "       contains(malcolm) = True                4 : 2      =      3.8 : 1.0\n",
      "         contains(three) = True                2 : 0      =      3.8 : 1.0\n",
      "           contains(...) = True                2 : 0      =      3.8 : 1.0\n",
      "          contains(down) = True                0 : 4      =      3.8 : 1.0\n",
      "          contains(wish) = True                0 : 4      =      3.8 : 1.0\n",
      "         contains(could) = True                0 : 4      =      3.8 : 1.0\n",
      "        contains(google) = True                4 : 0      =      3.7 : 1.0\n",
      "         contains(happy) = True                4 : 0      =      3.6 : 1.0\n",
      "           contains(it!) = True                4 : 0      =      3.6 : 1.0\n",
      "None\n"
     ]
    }
   ],
   "source": [
    "# this section shows some information about the classifier\n",
    "\n",
    "print(classifier.show_most_informative_features(32))"
   ]
  },
  {
   "cell_type": "code",
   "execution_count": 45,
   "metadata": {},
   "outputs": [
    {
     "name": "stdout",
     "output_type": "stream",
     "text": [
      "4\n",
      "0\n",
      "4\n"
     ]
    }
   ],
   "source": [
    "# this section shows some test tweets that convey how fragile the classifier is\n",
    "\n",
    "tweet = 'Larry is my friend'\n",
    "print(classifier.classify(extract_features(tweet.split())))\n",
    "\n",
    "tweet2 = 'Larry is my worst friend'\n",
    "print(classifier.classify(extract_features(tweet2.split())))\n",
    "\n",
    "tweet3 = 'Larry is not my friend'\n",
    "print(classifier.classify(extract_features(tweet3.split())))"
   ]
  },
  {
   "cell_type": "raw",
   "metadata": {},
   "source": [
    "We can see in the above that we can't get a perfect picture of what the tweet is about, but it works for some things. The first is clearly positive, and the classifier picks that up, and the second and third are clearly negative, but the classifier found the second to be negative and the third to be positive, presumably because 'worst' was used in the second but 'not' was used in the third."
   ]
  },
  {
   "cell_type": "code",
   "execution_count": 52,
   "metadata": {
    "scrolled": true
   },
   "outputs": [
    {
     "name": "stdout",
     "output_type": "stream",
     "text": [
      "emotion: 4, post: Local multiplayer had people with different tools out performing different tasks. This is great to hear! As it was pretty gimped before.\n",
      "emotion: 0, post: That darn pole is something I want but didn’t even know I wanted...\n",
      "emotion: 0, post: We can sell weeds now! Finally they won't be a chore to pick!\n",
      "emotion: 0, post: This might be a weird desire, but I'd like to be able to keep photos that I've taken in-game displayed somewhere in my lil home or tent\n",
      "emotion: 4, post: I know there are a ton of comments and mine is probably going to get buried, but did anyone notice when Tom Nook was talking in the beginning there was a cloud’s shadow floating by? It’s the little attention to details like this that make me SO excited for the game. It really is beautiful. Albeit, different from the others. It has its own charm. (secretly hoping Celeste is back with her telescope for constellations like in WW when we saw the character sitting outside at night looking at the sky)\n",
      "emotion: 0, post: EDIT: AND at 3:59 you can see a villager reading a book. they seem to interact more with their surroundings in this game which makes me happy. And did ANYONE notice at 3:24 the LONG SKIRT that MOVES flawlessly with the character.\n",
      "emotion: 0, post: Something about those clotheslines just makes this game look so cozy.\n",
      "emotion: 0, post: I think we will get the ability to change the cover on our Nook phones. Notice how Nook gives the character a green phone but it is black with designs on it when he pulls it out of his pocket.\n",
      "emotion: 4, post: I'm not really seeing anyone talk about the fact that the villager at the very end seemed to have thrown bait into the water. We knew about bait I think from the previous announcement, but it's still awesome to see it in action!!!\n",
      "emotion: 0, post: Did you see those mushrooms though\n",
      "emotion: 4, post: anyone else excited for the soundtrack and new hourly music? because for me that is one of the most relaxing parts of the game and the music from wild world will always evoke the most nostalgic childhood memories, so i really hope they created some beautiful new tracks :)\n",
      "emotion: 0, post: Why is no one talking about the bait that they threw in before fishing!!!!!!\n",
      "emotion: 0, post: I hope this doesn't come off as mean, but the more I see/hear of New Horizons the less I care about Pocket Camp. I think I'm just gonna drop the app altogether.\n",
      "emotion: 4, post: I am absolutely delighted, everything looks so nice and wholesome and the grass seems more patterned and the fairy lights in the winter look so cute and the wind swaying the leaves is delightful I don't think I've ever been more excited\n",
      "emotion: 4, post: Did you see Bill jogging with the player at the beginning of the trailer??? I almost had a heart attack from the cuteness.\n",
      "emotion: 0, post: Finally I can make a character with darker skin!\n",
      "emotion: 4, post: God damn it just tell me if Blathers is in the game or not. Collecting things for his museum was my life's purpose\n",
      "emotion: 4, post: random thought i had: imagine if our character’s noses got red in the colder seasons and in the summer it’s a more neutral color lol\n",
      "emotion: 4, post: I am excited for all the cute clothes showcased\n",
      "emotion: 4, post: I'm in love with everything so far!! I had a little idea, wouldn't it be cool if we could wade in the rivers or ponds? We could easily catch tadpoles and frogs and turtles! If not, even just dipping our feet in the water would be cute. We've already seen how the villagers seem to do more than just aimlessly wander around, so imagine them sitting and reading a book with their little feet in the water!\n",
      "emotion: 0, post: Man the crafting looks cool and all but I reeeeeally hope stores are still a major thing....\n",
      "emotion: 4, post: Did anyone else notice Peewee holding a basket of mushrooms during fall next to the giant mushroom?\n",
      "emotion: 4, post: me sleeping knowing acnh will be the goty next year no matter who disagrees\n",
      "emotion: 4, post: Sure would be cool if in new horizons we could actually get under the covers of our bed lol. Great pic!!\n",
      "emotion: 4, post: JELLYFISH. HOW.\n",
      "emotion: 4, post: L o v e  your decor!\n",
      "emotion: 4, post: What is the piece on the left side, under the mirror? I love!!\n",
      "emotion: 4, post: Is this on new leaf??\n",
      "emotion: 4, post: Where did you get the bed? :o\n",
      "emotion: 4, post: That room is too darn kawaii.\n",
      "emotion: 2, post: What is that wig?! Sooo pretty! I must've missed it\n",
      "emotion: 0, post: Me in about 7/8 hours from now\n",
      "emotion: 4, post: *6 hours later*\n",
      "emotion: 0, post: Hark! Is that a Monster Hunter reference? So Tasty!!!\n",
      "emotion: 4, post: wisp is your friend\n",
      "emotion: 4, post: LOL\n",
      "emotion: 4, post: I HATE THAT!\n"
     ]
    }
   ],
   "source": [
    "reddit_posts_file = \"test-posts.xlsx\"\n",
    "\n",
    "reddit_posts = pd.read_excel(reddit_posts_file)\n",
    "\n",
    "posts = []\n",
    "for index, row in reddit_posts.iterrows():\n",
    "    posts.append(row['post'])\n",
    "    \n",
    "for post in posts:\n",
    "    print(\"emotion: \" + str(classifier.classify(extract_features(post.split()))) + \", post: \" + str(post))"
   ]
  },
  {
   "cell_type": "raw",
   "metadata": {},
   "source": [
    "The above is 37 posts from the Animal Crossing subreddit.\n",
    "\n",
    "We can see that a majority of the classifications of positive/neutral/negative are accurate. I'm very pleased with how that turned out.\n",
    "\n",
    "There is clearly some room for improvement, such as some of the shorter ones toward the end i.e.:\n",
    "1. \"Hark! Is that a Monster Hunter reference? So Tasty!!!\", as gross as that is, it is definitely excitment, but it was classified as negative.\n",
    "2. \"I HATE THAT!\", clearly this is negative, but it was given a positive rating.\n",
    "3. \"JELLYFISH. HOW.\", this was given a positive, but is is more neutral or negative.\n",
    "\n",
    "It is interesting to consider how we used twitter data from 2012 to create this classifier, but it is still effective on a comments section of Reddit in 2019."
   ]
  },
  {
   "cell_type": "code",
   "execution_count": null,
   "metadata": {},
   "outputs": [],
   "source": []
  }
 ],
 "metadata": {
  "kernelspec": {
   "display_name": "Python 3",
   "language": "python",
   "name": "python3"
  },
  "language_info": {
   "codemirror_mode": {
    "name": "ipython",
    "version": 3
   },
   "file_extension": ".py",
   "mimetype": "text/x-python",
   "name": "python",
   "nbconvert_exporter": "python",
   "pygments_lexer": "ipython3",
   "version": "3.7.3"
  }
 },
 "nbformat": 4,
 "nbformat_minor": 2
}
